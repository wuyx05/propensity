{
 "cells": [
  {
   "cell_type": "markdown",
   "metadata": {},
   "source": [
    "## load data"
   ]
  },
  {
   "cell_type": "code",
   "execution_count": 4,
   "metadata": {},
   "outputs": [],
   "source": [
    "\n",
    "import pandas as pd\n",
    "import numpy as np\n",
    "import joblib\n",
    "import os\n",
    "import matplotlib.pyplot as plt\n",
    "import seaborn as sns\n",
    "from sklearn.preprocessing import MinMaxScaler,OneHotEncoder,StandardScaler\n",
    "from sklearn.linear_model import LogisticRegression\n",
    "import lightgbm as lgb\n",
    "import xgboost as xgb\n",
    "from sklearn.ensemble import RandomForestRegressor\n",
    "from sklearn.metrics import mean_squared_error, r2_score,mean_absolute_error\n",
    "from sklearn.model_selection import cross_val_score, KFold, GridSearchCV, train_test_split,StratifiedKFold\n",
    "from sklearn.linear_model import LinearRegression,Ridge, RidgeCV,ElasticNet, ElasticNetCV\n",
    "from sklearn.metrics import classification_report, accuracy_score, confusion_matrix, roc_auc_score,precision_score, recall_score, f1_score, accuracy_score, roc_auc_score,roc_curve, auc"
   ]
  },
  {
   "cell_type": "code",
   "execution_count": 5,
   "metadata": {},
   "outputs": [],
   "source": [
    "file_path = 'data/DataScientist_CaseStudy_Dataset.xlsx'\n",
    "sheets_to_read = ['Soc_Dem', 'Products_ActBalance','Inflow_Outflow','Sales_Revenues']  "
   ]
  },
  {
   "cell_type": "code",
   "execution_count": 6,
   "metadata": {},
   "outputs": [],
   "source": [
    "# Read all specified sheets into a dictionary of DataFrames\n",
    "dataframes = pd.read_excel(file_path, sheet_name=sheets_to_read, engine='openpyxl')"
   ]
  },
  {
   "cell_type": "code",
   "execution_count": 7,
   "metadata": {},
   "outputs": [],
   "source": [
    "df_demo = dataframes['Soc_Dem']\n",
    "df_act = dataframes['Products_ActBalance']\n",
    "df_flow = dataframes['Inflow_Outflow']\n",
    "df_tar_rev = dataframes['Sales_Revenues']"
   ]
  },
  {
   "cell_type": "code",
   "execution_count": 8,
   "metadata": {},
   "outputs": [
    {
     "name": "stdout",
     "output_type": "stream",
     "text": [
      "(1615, 4)\n"
     ]
    },
    {
     "data": {
      "text/html": [
       "<div>\n",
       "<style scoped>\n",
       "    .dataframe tbody tr th:only-of-type {\n",
       "        vertical-align: middle;\n",
       "    }\n",
       "\n",
       "    .dataframe tbody tr th {\n",
       "        vertical-align: top;\n",
       "    }\n",
       "\n",
       "    .dataframe thead th {\n",
       "        text-align: right;\n",
       "    }\n",
       "</style>\n",
       "<table border=\"1\" class=\"dataframe\">\n",
       "  <thead>\n",
       "    <tr style=\"text-align: right;\">\n",
       "      <th></th>\n",
       "      <th>Client</th>\n",
       "      <th>Sex</th>\n",
       "      <th>Age</th>\n",
       "      <th>Tenure</th>\n",
       "    </tr>\n",
       "  </thead>\n",
       "  <tbody>\n",
       "    <tr>\n",
       "      <th>0</th>\n",
       "      <td>909</td>\n",
       "      <td>M</td>\n",
       "      <td>21</td>\n",
       "      <td>27</td>\n",
       "    </tr>\n",
       "    <tr>\n",
       "      <th>1</th>\n",
       "      <td>1217</td>\n",
       "      <td>M</td>\n",
       "      <td>38</td>\n",
       "      <td>165</td>\n",
       "    </tr>\n",
       "    <tr>\n",
       "      <th>2</th>\n",
       "      <td>850</td>\n",
       "      <td>F</td>\n",
       "      <td>49</td>\n",
       "      <td>44</td>\n",
       "    </tr>\n",
       "    <tr>\n",
       "      <th>3</th>\n",
       "      <td>1473</td>\n",
       "      <td>M</td>\n",
       "      <td>54</td>\n",
       "      <td>34</td>\n",
       "    </tr>\n",
       "    <tr>\n",
       "      <th>4</th>\n",
       "      <td>1038</td>\n",
       "      <td>M</td>\n",
       "      <td>29</td>\n",
       "      <td>106</td>\n",
       "    </tr>\n",
       "  </tbody>\n",
       "</table>\n",
       "</div>"
      ],
      "text/plain": [
       "   Client Sex  Age  Tenure\n",
       "0     909   M   21      27\n",
       "1    1217   M   38     165\n",
       "2     850   F   49      44\n",
       "3    1473   M   54      34\n",
       "4    1038   M   29     106"
      ]
     },
     "execution_count": 8,
     "metadata": {},
     "output_type": "execute_result"
    }
   ],
   "source": [
    "print(df_demo.shape)\n",
    "df_demo.head()"
   ]
  },
  {
   "cell_type": "code",
   "execution_count": 9,
   "metadata": {},
   "outputs": [
    {
     "name": "stdout",
     "output_type": "stream",
     "text": [
      "(1615, 13)\n"
     ]
    },
    {
     "data": {
      "text/html": [
       "<div>\n",
       "<style scoped>\n",
       "    .dataframe tbody tr th:only-of-type {\n",
       "        vertical-align: middle;\n",
       "    }\n",
       "\n",
       "    .dataframe tbody tr th {\n",
       "        vertical-align: top;\n",
       "    }\n",
       "\n",
       "    .dataframe thead th {\n",
       "        text-align: right;\n",
       "    }\n",
       "</style>\n",
       "<table border=\"1\" class=\"dataframe\">\n",
       "  <thead>\n",
       "    <tr style=\"text-align: right;\">\n",
       "      <th></th>\n",
       "      <th>Client</th>\n",
       "      <th>Count_CA</th>\n",
       "      <th>Count_SA</th>\n",
       "      <th>Count_MF</th>\n",
       "      <th>Count_OVD</th>\n",
       "      <th>Count_CC</th>\n",
       "      <th>Count_CL</th>\n",
       "      <th>ActBal_CA</th>\n",
       "      <th>ActBal_SA</th>\n",
       "      <th>ActBal_MF</th>\n",
       "      <th>ActBal_OVD</th>\n",
       "      <th>ActBal_CC</th>\n",
       "      <th>ActBal_CL</th>\n",
       "    </tr>\n",
       "  </thead>\n",
       "  <tbody>\n",
       "    <tr>\n",
       "      <th>0</th>\n",
       "      <td>1</td>\n",
       "      <td>1</td>\n",
       "      <td>NaN</td>\n",
       "      <td>NaN</td>\n",
       "      <td>1.0</td>\n",
       "      <td>NaN</td>\n",
       "      <td>NaN</td>\n",
       "      <td>1333.802857</td>\n",
       "      <td>NaN</td>\n",
       "      <td>NaN</td>\n",
       "      <td>0.0</td>\n",
       "      <td>NaN</td>\n",
       "      <td>NaN</td>\n",
       "    </tr>\n",
       "    <tr>\n",
       "      <th>1</th>\n",
       "      <td>2</td>\n",
       "      <td>1</td>\n",
       "      <td>1.0</td>\n",
       "      <td>NaN</td>\n",
       "      <td>NaN</td>\n",
       "      <td>NaN</td>\n",
       "      <td>NaN</td>\n",
       "      <td>110.768571</td>\n",
       "      <td>13326.190357</td>\n",
       "      <td>NaN</td>\n",
       "      <td>NaN</td>\n",
       "      <td>NaN</td>\n",
       "      <td>NaN</td>\n",
       "    </tr>\n",
       "    <tr>\n",
       "      <th>2</th>\n",
       "      <td>3</td>\n",
       "      <td>1</td>\n",
       "      <td>NaN</td>\n",
       "      <td>1.0</td>\n",
       "      <td>NaN</td>\n",
       "      <td>NaN</td>\n",
       "      <td>NaN</td>\n",
       "      <td>482.654643</td>\n",
       "      <td>NaN</td>\n",
       "      <td>107.251786</td>\n",
       "      <td>NaN</td>\n",
       "      <td>NaN</td>\n",
       "      <td>NaN</td>\n",
       "    </tr>\n",
       "    <tr>\n",
       "      <th>3</th>\n",
       "      <td>4</td>\n",
       "      <td>1</td>\n",
       "      <td>1.0</td>\n",
       "      <td>NaN</td>\n",
       "      <td>NaN</td>\n",
       "      <td>1.0</td>\n",
       "      <td>NaN</td>\n",
       "      <td>1599.840714</td>\n",
       "      <td>76.437143</td>\n",
       "      <td>NaN</td>\n",
       "      <td>NaN</td>\n",
       "      <td>1110.381786</td>\n",
       "      <td>NaN</td>\n",
       "    </tr>\n",
       "    <tr>\n",
       "      <th>4</th>\n",
       "      <td>5</td>\n",
       "      <td>1</td>\n",
       "      <td>1.0</td>\n",
       "      <td>NaN</td>\n",
       "      <td>NaN</td>\n",
       "      <td>NaN</td>\n",
       "      <td>NaN</td>\n",
       "      <td>5353.483929</td>\n",
       "      <td>8079.715714</td>\n",
       "      <td>NaN</td>\n",
       "      <td>NaN</td>\n",
       "      <td>NaN</td>\n",
       "      <td>NaN</td>\n",
       "    </tr>\n",
       "  </tbody>\n",
       "</table>\n",
       "</div>"
      ],
      "text/plain": [
       "   Client  Count_CA  Count_SA  Count_MF  Count_OVD  Count_CC  Count_CL  \\\n",
       "0       1         1       NaN       NaN        1.0       NaN       NaN   \n",
       "1       2         1       1.0       NaN        NaN       NaN       NaN   \n",
       "2       3         1       NaN       1.0        NaN       NaN       NaN   \n",
       "3       4         1       1.0       NaN        NaN       1.0       NaN   \n",
       "4       5         1       1.0       NaN        NaN       NaN       NaN   \n",
       "\n",
       "     ActBal_CA     ActBal_SA   ActBal_MF  ActBal_OVD    ActBal_CC  ActBal_CL  \n",
       "0  1333.802857           NaN         NaN         0.0          NaN        NaN  \n",
       "1   110.768571  13326.190357         NaN         NaN          NaN        NaN  \n",
       "2   482.654643           NaN  107.251786         NaN          NaN        NaN  \n",
       "3  1599.840714     76.437143         NaN         NaN  1110.381786        NaN  \n",
       "4  5353.483929   8079.715714         NaN         NaN          NaN        NaN  "
      ]
     },
     "execution_count": 9,
     "metadata": {},
     "output_type": "execute_result"
    }
   ],
   "source": [
    "print(df_act.shape)\n",
    "df_act.head()"
   ]
  },
  {
   "cell_type": "code",
   "execution_count": 10,
   "metadata": {},
   "outputs": [
    {
     "name": "stdout",
     "output_type": "stream",
     "text": [
      "(1587, 15)\n"
     ]
    },
    {
     "data": {
      "text/html": [
       "<div>\n",
       "<style scoped>\n",
       "    .dataframe tbody tr th:only-of-type {\n",
       "        vertical-align: middle;\n",
       "    }\n",
       "\n",
       "    .dataframe tbody tr th {\n",
       "        vertical-align: top;\n",
       "    }\n",
       "\n",
       "    .dataframe thead th {\n",
       "        text-align: right;\n",
       "    }\n",
       "</style>\n",
       "<table border=\"1\" class=\"dataframe\">\n",
       "  <thead>\n",
       "    <tr style=\"text-align: right;\">\n",
       "      <th></th>\n",
       "      <th>Client</th>\n",
       "      <th>VolumeCred</th>\n",
       "      <th>VolumeCred_CA</th>\n",
       "      <th>TransactionsCred</th>\n",
       "      <th>TransactionsCred_CA</th>\n",
       "      <th>VolumeDeb</th>\n",
       "      <th>VolumeDeb_CA</th>\n",
       "      <th>VolumeDebCash_Card</th>\n",
       "      <th>VolumeDebCashless_Card</th>\n",
       "      <th>VolumeDeb_PaymentOrder</th>\n",
       "      <th>TransactionsDeb</th>\n",
       "      <th>TransactionsDeb_CA</th>\n",
       "      <th>TransactionsDebCash_Card</th>\n",
       "      <th>TransactionsDebCashless_Card</th>\n",
       "      <th>TransactionsDeb_PaymentOrder</th>\n",
       "    </tr>\n",
       "  </thead>\n",
       "  <tbody>\n",
       "    <tr>\n",
       "      <th>0</th>\n",
       "      <td>1017</td>\n",
       "      <td>0.005000</td>\n",
       "      <td>0.005000</td>\n",
       "      <td>1</td>\n",
       "      <td>1</td>\n",
       "      <td>118.046429</td>\n",
       "      <td>118.046429</td>\n",
       "      <td>25.000000</td>\n",
       "      <td>91.796429</td>\n",
       "      <td>0.000000</td>\n",
       "      <td>12</td>\n",
       "      <td>12</td>\n",
       "      <td>2</td>\n",
       "      <td>9</td>\n",
       "      <td>0</td>\n",
       "    </tr>\n",
       "    <tr>\n",
       "      <th>1</th>\n",
       "      <td>1456</td>\n",
       "      <td>364.772143</td>\n",
       "      <td>364.752857</td>\n",
       "      <td>4</td>\n",
       "      <td>3</td>\n",
       "      <td>774.980000</td>\n",
       "      <td>774.980000</td>\n",
       "      <td>14.285714</td>\n",
       "      <td>497.444286</td>\n",
       "      <td>258.607143</td>\n",
       "      <td>28</td>\n",
       "      <td>28</td>\n",
       "      <td>1</td>\n",
       "      <td>20</td>\n",
       "      <td>5</td>\n",
       "    </tr>\n",
       "    <tr>\n",
       "      <th>2</th>\n",
       "      <td>545</td>\n",
       "      <td>2471.719286</td>\n",
       "      <td>2471.719286</td>\n",
       "      <td>14</td>\n",
       "      <td>14</td>\n",
       "      <td>2190.257143</td>\n",
       "      <td>2190.257143</td>\n",
       "      <td>303.571429</td>\n",
       "      <td>179.082143</td>\n",
       "      <td>1229.428571</td>\n",
       "      <td>23</td>\n",
       "      <td>23</td>\n",
       "      <td>3</td>\n",
       "      <td>5</td>\n",
       "      <td>12</td>\n",
       "    </tr>\n",
       "    <tr>\n",
       "      <th>3</th>\n",
       "      <td>667</td>\n",
       "      <td>1127.792857</td>\n",
       "      <td>1127.792857</td>\n",
       "      <td>4</td>\n",
       "      <td>4</td>\n",
       "      <td>1344.603571</td>\n",
       "      <td>1344.603571</td>\n",
       "      <td>642.857143</td>\n",
       "      <td>194.285714</td>\n",
       "      <td>249.321429</td>\n",
       "      <td>21</td>\n",
       "      <td>21</td>\n",
       "      <td>3</td>\n",
       "      <td>4</td>\n",
       "      <td>8</td>\n",
       "    </tr>\n",
       "    <tr>\n",
       "      <th>4</th>\n",
       "      <td>1381</td>\n",
       "      <td>571.618214</td>\n",
       "      <td>571.618214</td>\n",
       "      <td>3</td>\n",
       "      <td>3</td>\n",
       "      <td>57.071429</td>\n",
       "      <td>57.071429</td>\n",
       "      <td>10.714286</td>\n",
       "      <td>46.357143</td>\n",
       "      <td>0.000000</td>\n",
       "      <td>6</td>\n",
       "      <td>6</td>\n",
       "      <td>1</td>\n",
       "      <td>5</td>\n",
       "      <td>0</td>\n",
       "    </tr>\n",
       "  </tbody>\n",
       "</table>\n",
       "</div>"
      ],
      "text/plain": [
       "   Client   VolumeCred  VolumeCred_CA  TransactionsCred  TransactionsCred_CA  \\\n",
       "0    1017     0.005000       0.005000                 1                    1   \n",
       "1    1456   364.772143     364.752857                 4                    3   \n",
       "2     545  2471.719286    2471.719286                14                   14   \n",
       "3     667  1127.792857    1127.792857                 4                    4   \n",
       "4    1381   571.618214     571.618214                 3                    3   \n",
       "\n",
       "     VolumeDeb  VolumeDeb_CA  VolumeDebCash_Card  VolumeDebCashless_Card  \\\n",
       "0   118.046429    118.046429           25.000000               91.796429   \n",
       "1   774.980000    774.980000           14.285714              497.444286   \n",
       "2  2190.257143   2190.257143          303.571429              179.082143   \n",
       "3  1344.603571   1344.603571          642.857143              194.285714   \n",
       "4    57.071429     57.071429           10.714286               46.357143   \n",
       "\n",
       "   VolumeDeb_PaymentOrder  TransactionsDeb  TransactionsDeb_CA  \\\n",
       "0                0.000000               12                  12   \n",
       "1              258.607143               28                  28   \n",
       "2             1229.428571               23                  23   \n",
       "3              249.321429               21                  21   \n",
       "4                0.000000                6                   6   \n",
       "\n",
       "   TransactionsDebCash_Card  TransactionsDebCashless_Card  \\\n",
       "0                         2                             9   \n",
       "1                         1                            20   \n",
       "2                         3                             5   \n",
       "3                         3                             4   \n",
       "4                         1                             5   \n",
       "\n",
       "   TransactionsDeb_PaymentOrder  \n",
       "0                             0  \n",
       "1                             5  \n",
       "2                            12  \n",
       "3                             8  \n",
       "4                             0  "
      ]
     },
     "execution_count": 10,
     "metadata": {},
     "output_type": "execute_result"
    }
   ],
   "source": [
    "print(df_flow.shape)\n",
    "df_flow.head()"
   ]
  },
  {
   "cell_type": "code",
   "execution_count": 11,
   "metadata": {},
   "outputs": [
    {
     "name": "stdout",
     "output_type": "stream",
     "text": [
      "(969, 7)\n"
     ]
    },
    {
     "data": {
      "text/html": [
       "<div>\n",
       "<style scoped>\n",
       "    .dataframe tbody tr th:only-of-type {\n",
       "        vertical-align: middle;\n",
       "    }\n",
       "\n",
       "    .dataframe tbody tr th {\n",
       "        vertical-align: top;\n",
       "    }\n",
       "\n",
       "    .dataframe thead th {\n",
       "        text-align: right;\n",
       "    }\n",
       "</style>\n",
       "<table border=\"1\" class=\"dataframe\">\n",
       "  <thead>\n",
       "    <tr style=\"text-align: right;\">\n",
       "      <th></th>\n",
       "      <th>Client</th>\n",
       "      <th>Sale_MF</th>\n",
       "      <th>Sale_CC</th>\n",
       "      <th>Sale_CL</th>\n",
       "      <th>Revenue_MF</th>\n",
       "      <th>Revenue_CC</th>\n",
       "      <th>Revenue_CL</th>\n",
       "    </tr>\n",
       "  </thead>\n",
       "  <tbody>\n",
       "    <tr>\n",
       "      <th>0</th>\n",
       "      <td>1094</td>\n",
       "      <td>0</td>\n",
       "      <td>1</td>\n",
       "      <td>0</td>\n",
       "      <td>0.000000</td>\n",
       "      <td>5.138571</td>\n",
       "      <td>0.0000</td>\n",
       "    </tr>\n",
       "    <tr>\n",
       "      <th>1</th>\n",
       "      <td>1484</td>\n",
       "      <td>1</td>\n",
       "      <td>0</td>\n",
       "      <td>1</td>\n",
       "      <td>25.609107</td>\n",
       "      <td>0.000000</td>\n",
       "      <td>8.7225</td>\n",
       "    </tr>\n",
       "    <tr>\n",
       "      <th>2</th>\n",
       "      <td>20</td>\n",
       "      <td>0</td>\n",
       "      <td>1</td>\n",
       "      <td>0</td>\n",
       "      <td>0.000000</td>\n",
       "      <td>3.822500</td>\n",
       "      <td>0.0000</td>\n",
       "    </tr>\n",
       "    <tr>\n",
       "      <th>3</th>\n",
       "      <td>1193</td>\n",
       "      <td>0</td>\n",
       "      <td>0</td>\n",
       "      <td>0</td>\n",
       "      <td>0.000000</td>\n",
       "      <td>0.000000</td>\n",
       "      <td>0.0000</td>\n",
       "    </tr>\n",
       "    <tr>\n",
       "      <th>4</th>\n",
       "      <td>142</td>\n",
       "      <td>0</td>\n",
       "      <td>0</td>\n",
       "      <td>0</td>\n",
       "      <td>0.000000</td>\n",
       "      <td>0.000000</td>\n",
       "      <td>0.0000</td>\n",
       "    </tr>\n",
       "  </tbody>\n",
       "</table>\n",
       "</div>"
      ],
      "text/plain": [
       "   Client  Sale_MF  Sale_CC  Sale_CL  Revenue_MF  Revenue_CC  Revenue_CL\n",
       "0    1094        0        1        0    0.000000    5.138571      0.0000\n",
       "1    1484        1        0        1   25.609107    0.000000      8.7225\n",
       "2      20        0        1        0    0.000000    3.822500      0.0000\n",
       "3    1193        0        0        0    0.000000    0.000000      0.0000\n",
       "4     142        0        0        0    0.000000    0.000000      0.0000"
      ]
     },
     "execution_count": 11,
     "metadata": {},
     "output_type": "execute_result"
    }
   ],
   "source": [
    "print(df_tar_rev.shape)\n",
    "df_tar_rev.head()"
   ]
  },
  {
   "cell_type": "code",
   "execution_count": 12,
   "metadata": {},
   "outputs": [
    {
     "data": {
      "text/html": [
       "<div>\n",
       "<style scoped>\n",
       "    .dataframe tbody tr th:only-of-type {\n",
       "        vertical-align: middle;\n",
       "    }\n",
       "\n",
       "    .dataframe tbody tr th {\n",
       "        vertical-align: top;\n",
       "    }\n",
       "\n",
       "    .dataframe thead th {\n",
       "        text-align: right;\n",
       "    }\n",
       "</style>\n",
       "<table border=\"1\" class=\"dataframe\">\n",
       "  <thead>\n",
       "    <tr style=\"text-align: right;\">\n",
       "      <th></th>\n",
       "      <th>Client</th>\n",
       "      <th>Sex</th>\n",
       "      <th>Age</th>\n",
       "      <th>Tenure</th>\n",
       "    </tr>\n",
       "  </thead>\n",
       "  <tbody>\n",
       "  </tbody>\n",
       "</table>\n",
       "</div>"
      ],
      "text/plain": [
       "Empty DataFrame\n",
       "Columns: [Client, Sex, Age, Tenure]\n",
       "Index: []"
      ]
     },
     "execution_count": 12,
     "metadata": {},
     "output_type": "execute_result"
    }
   ],
   "source": [
    "duplicates_mask = df_demo.duplicated()\n",
    "duplicate_rows = df_demo[duplicates_mask]\n",
    "duplicate_rows #no duplicates"
   ]
  },
  {
   "cell_type": "code",
   "execution_count": 13,
   "metadata": {},
   "outputs": [
    {
     "data": {
      "text/plain": [
       "(0, 0, 0, 0)"
      ]
     },
     "execution_count": 13,
     "metadata": {},
     "output_type": "execute_result"
    }
   ],
   "source": [
    "df_demo.duplicated().sum(),df_act.duplicated().sum(),df_flow.duplicated().sum(),df_tar_rev.duplicated().sum(),"
   ]
  },
  {
   "cell_type": "code",
   "execution_count": 14,
   "metadata": {},
   "outputs": [
    {
     "data": {
      "text/plain": [
       "(0, 0, 0, 0)"
      ]
     },
     "execution_count": 14,
     "metadata": {},
     "output_type": "execute_result"
    }
   ],
   "source": [
    "df_demo['Client'].duplicated().sum(),df_act['Client'].duplicated().sum(),df_flow['Client'].duplicated().sum(),df_tar_rev['Client'].duplicated().sum(),"
   ]
  },
  {
   "cell_type": "markdown",
   "metadata": {},
   "source": [
    "## merge"
   ]
  },
  {
   "cell_type": "code",
   "execution_count": 15,
   "metadata": {},
   "outputs": [],
   "source": [
    "df_merged = df_demo.merge(df_act, how='left', on = 'Client').merge(df_flow, how='left', on = 'Client')"
   ]
  },
  {
   "cell_type": "code",
   "execution_count": 16,
   "metadata": {},
   "outputs": [],
   "source": [
    "# df_merged[df_merged.Sex.isna()]\n",
    "df_merged.Sex = df_merged.Sex.fillna('Unknown')"
   ]
  },
  {
   "cell_type": "code",
   "execution_count": 17,
   "metadata": {},
   "outputs": [],
   "source": [
    "df_merged = df_merged.fillna(0)"
   ]
  },
  {
   "cell_type": "code",
   "execution_count": 18,
   "metadata": {},
   "outputs": [],
   "source": [
    "# define columns for different transformations\n",
    "count_cols = list(df_act.columns[df_act.columns.str.startswith('Count')])\n",
    "amt_cols=list((df_act.columns[~df_act.columns.str.startswith('Count')].append(df_flow.columns)).drop('Client'))\n",
    "target_cols= df_tar_rev.columns\n",
    "target_cols = [x for x in target_cols if x not in ['Client']]"
   ]
  },
  {
   "cell_type": "code",
   "execution_count": 19,
   "metadata": {},
   "outputs": [
    {
     "data": {
      "image/png": "[encoded data removed]",
      "text/plain": [
       "<Figure size 720x432 with 1 Axes>"
      ]
     },
     "metadata": {
      "needs_background": "light"
     },
     "output_type": "display_data"
    }
   ],
   "source": [
    "# col='Count_CL'\n",
    "col='ActBal_CC'\n",
    "\n",
    "plt.figure(figsize=(10, 6))\n",
    "sns.histplot(df_merged[col], bins=80, kde=False, color='skyblue', edgecolor='black')\n",
    "plt.title(f'Distribution of {col}', fontsize=14)\n",
    "plt.xlabel(col, fontsize=12)\n",
    "plt.ylabel('Frequency', fontsize=12)\n",
    "plt.grid(axis='y', alpha=0.75)\n",
    "plt.show()"
   ]
  },
  {
   "cell_type": "code",
   "execution_count": 20,
   "metadata": {},
   "outputs": [
    {
     "data": {
      "text/plain": [
       "['ActBal_CA',\n",
       " 'ActBal_SA',\n",
       " 'ActBal_MF',\n",
       " 'ActBal_OVD',\n",
       " 'ActBal_CC',\n",
       " 'ActBal_CL',\n",
       " 'VolumeCred',\n",
       " 'VolumeCred_CA',\n",
       " 'TransactionsCred',\n",
       " 'TransactionsCred_CA',\n",
       " 'VolumeDeb',\n",
       " 'VolumeDeb_CA',\n",
       " 'VolumeDebCash_Card',\n",
       " 'VolumeDebCashless_Card',\n",
       " 'VolumeDeb_PaymentOrder',\n",
       " 'TransactionsDeb',\n",
       " 'TransactionsDeb_CA',\n",
       " 'TransactionsDebCash_Card',\n",
       " 'TransactionsDebCashless_Card',\n",
       " 'TransactionsDeb_PaymentOrder']"
      ]
     },
     "execution_count": 20,
     "metadata": {},
     "output_type": "execute_result"
    }
   ],
   "source": [
    "amt_cols"
   ]
  },
  {
   "cell_type": "code",
   "execution_count": 21,
   "metadata": {},
   "outputs": [],
   "source": [
    "df_merged[amt_cols] = df_merged[amt_cols].clip(lower=0)"
   ]
  },
  {
   "cell_type": "code",
   "execution_count": 22,
   "metadata": {},
   "outputs": [
    {
     "data": {
      "text/html": [
       "<div>\n",
       "<style scoped>\n",
       "    .dataframe tbody tr th:only-of-type {\n",
       "        vertical-align: middle;\n",
       "    }\n",
       "\n",
       "    .dataframe tbody tr th {\n",
       "        vertical-align: top;\n",
       "    }\n",
       "\n",
       "    .dataframe thead th {\n",
       "        text-align: right;\n",
       "    }\n",
       "</style>\n",
       "<table border=\"1\" class=\"dataframe\">\n",
       "  <thead>\n",
       "    <tr style=\"text-align: right;\">\n",
       "      <th></th>\n",
       "      <th>Client</th>\n",
       "      <th>Sex</th>\n",
       "      <th>Age</th>\n",
       "      <th>Tenure</th>\n",
       "      <th>Count_CA</th>\n",
       "      <th>Count_SA</th>\n",
       "      <th>Count_MF</th>\n",
       "      <th>Count_OVD</th>\n",
       "      <th>Count_CC</th>\n",
       "      <th>Count_CL</th>\n",
       "      <th>...</th>\n",
       "      <th>TransactionsDeb_CA</th>\n",
       "      <th>TransactionsDebCash_Card</th>\n",
       "      <th>TransactionsDebCashless_Card</th>\n",
       "      <th>TransactionsDeb_PaymentOrder</th>\n",
       "      <th>Sale_MF</th>\n",
       "      <th>Sale_CC</th>\n",
       "      <th>Sale_CL</th>\n",
       "      <th>Revenue_MF</th>\n",
       "      <th>Revenue_CC</th>\n",
       "      <th>Revenue_CL</th>\n",
       "    </tr>\n",
       "  </thead>\n",
       "  <tbody>\n",
       "    <tr>\n",
       "      <th>0</th>\n",
       "      <td>909</td>\n",
       "      <td>M</td>\n",
       "      <td>21</td>\n",
       "      <td>27</td>\n",
       "      <td>1</td>\n",
       "      <td>0.0</td>\n",
       "      <td>0.0</td>\n",
       "      <td>1.0</td>\n",
       "      <td>0.0</td>\n",
       "      <td>1.0</td>\n",
       "      <td>...</td>\n",
       "      <td>7.0</td>\n",
       "      <td>1.0</td>\n",
       "      <td>0.0</td>\n",
       "      <td>4.0</td>\n",
       "      <td>NaN</td>\n",
       "      <td>NaN</td>\n",
       "      <td>NaN</td>\n",
       "      <td>NaN</td>\n",
       "      <td>NaN</td>\n",
       "      <td>NaN</td>\n",
       "    </tr>\n",
       "    <tr>\n",
       "      <th>1</th>\n",
       "      <td>1217</td>\n",
       "      <td>M</td>\n",
       "      <td>38</td>\n",
       "      <td>165</td>\n",
       "      <td>1</td>\n",
       "      <td>0.0</td>\n",
       "      <td>0.0</td>\n",
       "      <td>0.0</td>\n",
       "      <td>0.0</td>\n",
       "      <td>0.0</td>\n",
       "      <td>...</td>\n",
       "      <td>1.0</td>\n",
       "      <td>0.0</td>\n",
       "      <td>0.0</td>\n",
       "      <td>1.0</td>\n",
       "      <td>0.0</td>\n",
       "      <td>0.0</td>\n",
       "      <td>0.0</td>\n",
       "      <td>0.000000</td>\n",
       "      <td>0.000000</td>\n",
       "      <td>0.0</td>\n",
       "    </tr>\n",
       "    <tr>\n",
       "      <th>2</th>\n",
       "      <td>850</td>\n",
       "      <td>F</td>\n",
       "      <td>49</td>\n",
       "      <td>44</td>\n",
       "      <td>1</td>\n",
       "      <td>0.0</td>\n",
       "      <td>0.0</td>\n",
       "      <td>0.0</td>\n",
       "      <td>0.0</td>\n",
       "      <td>0.0</td>\n",
       "      <td>...</td>\n",
       "      <td>6.0</td>\n",
       "      <td>0.0</td>\n",
       "      <td>0.0</td>\n",
       "      <td>1.0</td>\n",
       "      <td>0.0</td>\n",
       "      <td>1.0</td>\n",
       "      <td>0.0</td>\n",
       "      <td>0.000000</td>\n",
       "      <td>0.893929</td>\n",
       "      <td>0.0</td>\n",
       "    </tr>\n",
       "    <tr>\n",
       "      <th>3</th>\n",
       "      <td>1473</td>\n",
       "      <td>M</td>\n",
       "      <td>54</td>\n",
       "      <td>34</td>\n",
       "      <td>1</td>\n",
       "      <td>1.0</td>\n",
       "      <td>0.0</td>\n",
       "      <td>0.0</td>\n",
       "      <td>1.0</td>\n",
       "      <td>1.0</td>\n",
       "      <td>...</td>\n",
       "      <td>38.0</td>\n",
       "      <td>1.0</td>\n",
       "      <td>26.0</td>\n",
       "      <td>11.0</td>\n",
       "      <td>1.0</td>\n",
       "      <td>0.0</td>\n",
       "      <td>0.0</td>\n",
       "      <td>4.929643</td>\n",
       "      <td>0.000000</td>\n",
       "      <td>0.0</td>\n",
       "    </tr>\n",
       "    <tr>\n",
       "      <th>4</th>\n",
       "      <td>1038</td>\n",
       "      <td>M</td>\n",
       "      <td>29</td>\n",
       "      <td>106</td>\n",
       "      <td>1</td>\n",
       "      <td>0.0</td>\n",
       "      <td>0.0</td>\n",
       "      <td>0.0</td>\n",
       "      <td>0.0</td>\n",
       "      <td>0.0</td>\n",
       "      <td>...</td>\n",
       "      <td>0.0</td>\n",
       "      <td>0.0</td>\n",
       "      <td>0.0</td>\n",
       "      <td>0.0</td>\n",
       "      <td>0.0</td>\n",
       "      <td>0.0</td>\n",
       "      <td>0.0</td>\n",
       "      <td>0.000000</td>\n",
       "      <td>0.000000</td>\n",
       "      <td>0.0</td>\n",
       "    </tr>\n",
       "  </tbody>\n",
       "</table>\n",
       "<p>5 rows × 36 columns</p>\n",
       "</div>"
      ],
      "text/plain": [
       "   Client Sex  Age  Tenure  Count_CA  Count_SA  Count_MF  Count_OVD  Count_CC  \\\n",
       "0     909   M   21      27         1       0.0       0.0        1.0       0.0   \n",
       "1    1217   M   38     165         1       0.0       0.0        0.0       0.0   \n",
       "2     850   F   49      44         1       0.0       0.0        0.0       0.0   \n",
       "3    1473   M   54      34         1       1.0       0.0        0.0       1.0   \n",
       "4    1038   M   29     106         1       0.0       0.0        0.0       0.0   \n",
       "\n",
       "   Count_CL  ...  TransactionsDeb_CA  TransactionsDebCash_Card  \\\n",
       "0       1.0  ...                 7.0                       1.0   \n",
       "1       0.0  ...                 1.0                       0.0   \n",
       "2       0.0  ...                 6.0                       0.0   \n",
       "3       1.0  ...                38.0                       1.0   \n",
       "4       0.0  ...                 0.0                       0.0   \n",
       "\n",
       "   TransactionsDebCashless_Card  TransactionsDeb_PaymentOrder  Sale_MF  \\\n",
       "0                           0.0                           4.0      NaN   \n",
       "1                           0.0                           1.0      0.0   \n",
       "2                           0.0                           1.0      0.0   \n",
       "3                          26.0                          11.0      1.0   \n",
       "4                           0.0                           0.0      0.0   \n",
       "\n",
       "   Sale_CC  Sale_CL  Revenue_MF  Revenue_CC  Revenue_CL  \n",
       "0      NaN      NaN         NaN         NaN         NaN  \n",
       "1      0.0      0.0    0.000000    0.000000         0.0  \n",
       "2      1.0      0.0    0.000000    0.893929         0.0  \n",
       "3      0.0      0.0    4.929643    0.000000         0.0  \n",
       "4      0.0      0.0    0.000000    0.000000         0.0  \n",
       "\n",
       "[5 rows x 36 columns]"
      ]
     },
     "execution_count": 22,
     "metadata": {},
     "output_type": "execute_result"
    }
   ],
   "source": [
    "df_merged_tar=df_merged.merge(df_tar_rev, how='left', on = 'Client')\n",
    "df_merged_tar.head()"
   ]
  },
  {
   "cell_type": "markdown",
   "metadata": {},
   "source": [
    "### log"
   ]
  },
  {
   "cell_type": "code",
   "execution_count": 23,
   "metadata": {},
   "outputs": [],
   "source": [
    "log_colnames = []\n",
    "\n",
    "for col in amt_cols: #+count_cols\n",
    "    df_merged_tar[f'log_{col}'] = np.log1p(df_merged_tar[col])  # log(1+x) \n",
    "    log_colnames.append(f'log_{col}')"
   ]
  },
  {
   "cell_type": "markdown",
   "metadata": {},
   "source": [
    "## train val test split"
   ]
  },
  {
   "cell_type": "code",
   "execution_count": 24,
   "metadata": {},
   "outputs": [],
   "source": [
    "# separate those without sales info as test\n",
    "df_train_total = df_merged_tar[~df_merged_tar.Sale_MF.isna()]\n",
    "df_test = df_merged_tar[df_merged_tar.Sale_MF.isna()]"
   ]
  },
  {
   "cell_type": "code",
   "execution_count": 25,
   "metadata": {},
   "outputs": [
    {
     "name": "stdout",
     "output_type": "stream",
     "text": [
      "194 775\n"
     ]
    }
   ],
   "source": [
    "# further split train and validation\n",
    "frac = 0.2  # Sample 20% of client IDs\n",
    "val_ids = df_train_total['Client'].sample(frac=frac, random_state=42)\n",
    "train_ids = list(set(df_train_total['Client']) - set(val_ids))\n",
    "print(len(val_ids),len(train_ids))"
   ]
  },
  {
   "cell_type": "code",
   "execution_count": 26,
   "metadata": {},
   "outputs": [],
   "source": [
    "# split train validation by client id\n",
    "df_train=df_train_total[df_train_total.Client.isin(train_ids)]\n",
    "df_val=df_train_total[df_train_total.Client.isin(val_ids)]"
   ]
  },
  {
   "cell_type": "code",
   "execution_count": 27,
   "metadata": {},
   "outputs": [],
   "source": [
    "# keep a copy of validation client id\n",
    "df_val_client=df_val[['Client']]"
   ]
  },
  {
   "cell_type": "markdown",
   "metadata": {},
   "source": [
    "## Feature engineering"
   ]
  },
  {
   "cell_type": "markdown",
   "metadata": {},
   "source": [
    "### one hot"
   ]
  },
  {
   "cell_type": "code",
   "execution_count": 28,
   "metadata": {},
   "outputs": [
    {
     "name": "stdout",
     "output_type": "stream",
     "text": [
      "encoders/onehot_encoder.joblib\n"
     ]
    }
   ],
   "source": [
    "# define columns and path to save encoder\n",
    "cols_ohe = ['Sex']\n",
    "enc_dir = 'encoders/'\n",
    "os.makedirs(enc_dir, exist_ok=True)\n",
    "    \n",
    "encoder_path = os.path.join(enc_dir, \"onehot_encoder.joblib\")\n",
    "print(encoder_path)"
   ]
  },
  {
   "cell_type": "code",
   "execution_count": 29,
   "metadata": {},
   "outputs": [],
   "source": [
    "# fit encoder, handle_unknown='ignore' in case of unseen category in test data\n",
    "ohe = OneHotEncoder(handle_unknown='ignore',sparse_output=False)\n",
    "X_train_cat_enc = ohe.fit_transform(df_train[cols_ohe])\n",
    "X_val_cat_enc = ohe.transform(df_val[cols_ohe])\n",
    "X_test_cat_enc = ohe.transform(df_test[cols_ohe])"
   ]
  },
  {
   "cell_type": "code",
   "execution_count": 30,
   "metadata": {},
   "outputs": [
    {
     "name": "stdout",
     "output_type": "stream",
     "text": [
      "Saved OneHotEncoder to encoders/onehot_encoder.joblib\n"
     ]
    }
   ],
   "source": [
    "# save ohe\n",
    "joblib.dump(ohe, encoder_path)\n",
    "print(f\"Saved OneHotEncoder to {encoder_path}\")"
   ]
  },
  {
   "cell_type": "code",
   "execution_count": 31,
   "metadata": {},
   "outputs": [],
   "source": [
    "# transform into dataframe with proper names\n",
    "encoded_cat_col=ohe.get_feature_names_out(cols_ohe)\n",
    "X_train_cat_enc = pd.DataFrame(X_train_cat_enc, columns=encoded_cat_col)\n",
    "X_val_cat_enc = pd.DataFrame(X_val_cat_enc, columns=encoded_cat_col)\n",
    "X_test_cat_enc = pd.DataFrame(X_test_cat_enc, columns=encoded_cat_col)"
   ]
  },
  {
   "cell_type": "markdown",
   "metadata": {},
   "source": [
    "### standard scaling"
   ]
  },
  {
   "cell_type": "code",
   "execution_count": 32,
   "metadata": {},
   "outputs": [
    {
     "name": "stdout",
     "output_type": "stream",
     "text": [
      "scalers/standard_scaler.joblib\n"
     ]
    }
   ],
   "source": [
    "# define path to save scaler\n",
    "sca_dir = 'scalers/'\n",
    "os.makedirs(sca_dir, exist_ok=True)\n",
    "scaler_path = os.path.join(sca_dir, \"standard_scaler.joblib\")\n",
    "print(scaler_path)"
   ]
  },
  {
   "cell_type": "code",
   "execution_count": 33,
   "metadata": {},
   "outputs": [],
   "source": [
    "sscaler = StandardScaler()\n",
    "X_train_num_df= pd.DataFrame(sscaler.fit_transform(df_train[count_cols]),columns=count_cols) \n",
    "X_val_num_df= pd.DataFrame(sscaler.fit_transform(df_val[count_cols]),columns=count_cols) \n",
    "X_test_num_df = pd.DataFrame(sscaler.transform(df_test[count_cols]),columns=count_cols) "
   ]
  },
  {
   "cell_type": "code",
   "execution_count": 34,
   "metadata": {},
   "outputs": [
    {
     "data": {
      "text/plain": [
       "['scalers/standard_scaler.joblib']"
      ]
     },
     "execution_count": 34,
     "metadata": {},
     "output_type": "execute_result"
    }
   ],
   "source": [
    "# save standard scaler\n",
    "joblib.dump(sscaler, scaler_path)"
   ]
  },
  {
   "cell_type": "markdown",
   "metadata": {},
   "source": [
    "### Merge"
   ]
  },
  {
   "cell_type": "code",
   "execution_count": 35,
   "metadata": {},
   "outputs": [],
   "source": [
    "# merge columns after log, one hot encoding, and standard scaling\n",
    "X_train = pd.concat([X_train_cat_enc.reset_index(drop=True),df_train[log_colnames].reset_index(drop=True),X_train_num_df[count_cols].reset_index(drop=True)],axis=1)\n",
    "X_val = pd.concat([X_val_cat_enc.reset_index(drop=True),df_val[log_colnames].reset_index(drop=True),X_val_num_df[count_cols].reset_index(drop=True)],axis=1)\n",
    "X_test = pd.concat([X_test_cat_enc.reset_index(drop=True),df_test[log_colnames].reset_index(drop=True),X_test_num_df[count_cols].reset_index(drop=True)],axis=1)"
   ]
  },
  {
   "cell_type": "code",
   "execution_count": 36,
   "metadata": {},
   "outputs": [
    {
     "data": {
      "text/html": [
       "<div>\n",
       "<style scoped>\n",
       "    .dataframe tbody tr th:only-of-type {\n",
       "        vertical-align: middle;\n",
       "    }\n",
       "\n",
       "    .dataframe tbody tr th {\n",
       "        vertical-align: top;\n",
       "    }\n",
       "\n",
       "    .dataframe thead th {\n",
       "        text-align: right;\n",
       "    }\n",
       "</style>\n",
       "<table border=\"1\" class=\"dataframe\">\n",
       "  <thead>\n",
       "    <tr style=\"text-align: right;\">\n",
       "      <th></th>\n",
       "      <th>Sex_F</th>\n",
       "      <th>Sex_M</th>\n",
       "      <th>Sex_Unknown</th>\n",
       "      <th>log_ActBal_CA</th>\n",
       "      <th>log_ActBal_SA</th>\n",
       "      <th>log_ActBal_MF</th>\n",
       "      <th>log_ActBal_OVD</th>\n",
       "      <th>log_ActBal_CC</th>\n",
       "      <th>log_ActBal_CL</th>\n",
       "      <th>log_VolumeCred</th>\n",
       "      <th>...</th>\n",
       "      <th>log_TransactionsDeb_CA</th>\n",
       "      <th>log_TransactionsDebCash_Card</th>\n",
       "      <th>log_TransactionsDebCashless_Card</th>\n",
       "      <th>log_TransactionsDeb_PaymentOrder</th>\n",
       "      <th>Count_CA</th>\n",
       "      <th>Count_SA</th>\n",
       "      <th>Count_MF</th>\n",
       "      <th>Count_OVD</th>\n",
       "      <th>Count_CC</th>\n",
       "      <th>Count_CL</th>\n",
       "    </tr>\n",
       "  </thead>\n",
       "  <tbody>\n",
       "    <tr>\n",
       "      <th>0</th>\n",
       "      <td>0.0</td>\n",
       "      <td>1.0</td>\n",
       "      <td>0.0</td>\n",
       "      <td>8.817778</td>\n",
       "      <td>0.000000</td>\n",
       "      <td>0.000000</td>\n",
       "      <td>0.000000</td>\n",
       "      <td>0.000000</td>\n",
       "      <td>0.000000</td>\n",
       "      <td>0.002141</td>\n",
       "      <td>...</td>\n",
       "      <td>0.693147</td>\n",
       "      <td>0.000000</td>\n",
       "      <td>0.000000</td>\n",
       "      <td>0.693147</td>\n",
       "      <td>-0.238796</td>\n",
       "      <td>-0.571520</td>\n",
       "      <td>-0.215376</td>\n",
       "      <td>-0.589768</td>\n",
       "      <td>-0.376011</td>\n",
       "      <td>-0.287863</td>\n",
       "    </tr>\n",
       "    <tr>\n",
       "      <th>1</th>\n",
       "      <td>1.0</td>\n",
       "      <td>0.0</td>\n",
       "      <td>0.0</td>\n",
       "      <td>3.796011</td>\n",
       "      <td>0.000000</td>\n",
       "      <td>0.000000</td>\n",
       "      <td>0.000000</td>\n",
       "      <td>0.000000</td>\n",
       "      <td>0.000000</td>\n",
       "      <td>7.239504</td>\n",
       "      <td>...</td>\n",
       "      <td>1.945910</td>\n",
       "      <td>0.000000</td>\n",
       "      <td>0.000000</td>\n",
       "      <td>0.693147</td>\n",
       "      <td>-0.238796</td>\n",
       "      <td>-0.571520</td>\n",
       "      <td>-0.215376</td>\n",
       "      <td>-0.589768</td>\n",
       "      <td>-0.376011</td>\n",
       "      <td>-0.287863</td>\n",
       "    </tr>\n",
       "    <tr>\n",
       "      <th>2</th>\n",
       "      <td>0.0</td>\n",
       "      <td>1.0</td>\n",
       "      <td>0.0</td>\n",
       "      <td>3.402007</td>\n",
       "      <td>9.578367</td>\n",
       "      <td>0.000000</td>\n",
       "      <td>0.000000</td>\n",
       "      <td>6.484498</td>\n",
       "      <td>7.033145</td>\n",
       "      <td>7.488924</td>\n",
       "      <td>...</td>\n",
       "      <td>3.663562</td>\n",
       "      <td>0.693147</td>\n",
       "      <td>3.295837</td>\n",
       "      <td>2.484907</td>\n",
       "      <td>-0.238796</td>\n",
       "      <td>1.125522</td>\n",
       "      <td>-0.215376</td>\n",
       "      <td>-0.589768</td>\n",
       "      <td>2.659496</td>\n",
       "      <td>2.854299</td>\n",
       "    </tr>\n",
       "    <tr>\n",
       "      <th>3</th>\n",
       "      <td>0.0</td>\n",
       "      <td>1.0</td>\n",
       "      <td>0.0</td>\n",
       "      <td>3.333479</td>\n",
       "      <td>0.000000</td>\n",
       "      <td>0.000000</td>\n",
       "      <td>0.000000</td>\n",
       "      <td>0.000000</td>\n",
       "      <td>0.000000</td>\n",
       "      <td>0.006053</td>\n",
       "      <td>...</td>\n",
       "      <td>0.000000</td>\n",
       "      <td>0.000000</td>\n",
       "      <td>0.000000</td>\n",
       "      <td>0.000000</td>\n",
       "      <td>-0.238796</td>\n",
       "      <td>-0.571520</td>\n",
       "      <td>-0.215376</td>\n",
       "      <td>-0.589768</td>\n",
       "      <td>-0.376011</td>\n",
       "      <td>-0.287863</td>\n",
       "    </tr>\n",
       "    <tr>\n",
       "      <th>4</th>\n",
       "      <td>0.0</td>\n",
       "      <td>1.0</td>\n",
       "      <td>0.0</td>\n",
       "      <td>5.848420</td>\n",
       "      <td>0.000000</td>\n",
       "      <td>0.000000</td>\n",
       "      <td>6.428747</td>\n",
       "      <td>0.000000</td>\n",
       "      <td>0.000000</td>\n",
       "      <td>0.007472</td>\n",
       "      <td>...</td>\n",
       "      <td>1.791759</td>\n",
       "      <td>0.000000</td>\n",
       "      <td>1.609438</td>\n",
       "      <td>0.693147</td>\n",
       "      <td>-0.238796</td>\n",
       "      <td>-0.571520</td>\n",
       "      <td>-0.215376</td>\n",
       "      <td>1.695582</td>\n",
       "      <td>-0.376011</td>\n",
       "      <td>-0.287863</td>\n",
       "    </tr>\n",
       "    <tr>\n",
       "      <th>...</th>\n",
       "      <td>...</td>\n",
       "      <td>...</td>\n",
       "      <td>...</td>\n",
       "      <td>...</td>\n",
       "      <td>...</td>\n",
       "      <td>...</td>\n",
       "      <td>...</td>\n",
       "      <td>...</td>\n",
       "      <td>...</td>\n",
       "      <td>...</td>\n",
       "      <td>...</td>\n",
       "      <td>...</td>\n",
       "      <td>...</td>\n",
       "      <td>...</td>\n",
       "      <td>...</td>\n",
       "      <td>...</td>\n",
       "      <td>...</td>\n",
       "      <td>...</td>\n",
       "      <td>...</td>\n",
       "      <td>...</td>\n",
       "      <td>...</td>\n",
       "    </tr>\n",
       "    <tr>\n",
       "      <th>770</th>\n",
       "      <td>0.0</td>\n",
       "      <td>1.0</td>\n",
       "      <td>0.0</td>\n",
       "      <td>9.406382</td>\n",
       "      <td>0.000000</td>\n",
       "      <td>7.555303</td>\n",
       "      <td>0.000000</td>\n",
       "      <td>0.000000</td>\n",
       "      <td>0.000000</td>\n",
       "      <td>9.848528</td>\n",
       "      <td>...</td>\n",
       "      <td>1.609438</td>\n",
       "      <td>0.000000</td>\n",
       "      <td>3.367296</td>\n",
       "      <td>0.000000</td>\n",
       "      <td>-0.238796</td>\n",
       "      <td>-0.571520</td>\n",
       "      <td>0.428260</td>\n",
       "      <td>-0.589768</td>\n",
       "      <td>2.659496</td>\n",
       "      <td>-0.287863</td>\n",
       "    </tr>\n",
       "    <tr>\n",
       "      <th>771</th>\n",
       "      <td>0.0</td>\n",
       "      <td>1.0</td>\n",
       "      <td>0.0</td>\n",
       "      <td>8.012562</td>\n",
       "      <td>0.000000</td>\n",
       "      <td>0.000000</td>\n",
       "      <td>0.000000</td>\n",
       "      <td>0.000000</td>\n",
       "      <td>0.000000</td>\n",
       "      <td>0.000000</td>\n",
       "      <td>...</td>\n",
       "      <td>0.000000</td>\n",
       "      <td>0.000000</td>\n",
       "      <td>0.000000</td>\n",
       "      <td>0.000000</td>\n",
       "      <td>-0.238796</td>\n",
       "      <td>-0.571520</td>\n",
       "      <td>-0.215376</td>\n",
       "      <td>-0.589768</td>\n",
       "      <td>-0.376011</td>\n",
       "      <td>-0.287863</td>\n",
       "    </tr>\n",
       "    <tr>\n",
       "      <th>772</th>\n",
       "      <td>0.0</td>\n",
       "      <td>1.0</td>\n",
       "      <td>0.0</td>\n",
       "      <td>9.540861</td>\n",
       "      <td>0.000000</td>\n",
       "      <td>0.000000</td>\n",
       "      <td>0.000000</td>\n",
       "      <td>0.000000</td>\n",
       "      <td>7.476240</td>\n",
       "      <td>6.416558</td>\n",
       "      <td>...</td>\n",
       "      <td>1.609438</td>\n",
       "      <td>0.693147</td>\n",
       "      <td>0.000000</td>\n",
       "      <td>0.000000</td>\n",
       "      <td>-0.238796</td>\n",
       "      <td>-0.571520</td>\n",
       "      <td>-0.215376</td>\n",
       "      <td>-0.589768</td>\n",
       "      <td>-0.376011</td>\n",
       "      <td>5.996461</td>\n",
       "    </tr>\n",
       "    <tr>\n",
       "      <th>773</th>\n",
       "      <td>0.0</td>\n",
       "      <td>1.0</td>\n",
       "      <td>0.0</td>\n",
       "      <td>7.791472</td>\n",
       "      <td>0.000000</td>\n",
       "      <td>0.000000</td>\n",
       "      <td>0.000000</td>\n",
       "      <td>0.000000</td>\n",
       "      <td>0.000000</td>\n",
       "      <td>4.483007</td>\n",
       "      <td>...</td>\n",
       "      <td>2.197225</td>\n",
       "      <td>1.098612</td>\n",
       "      <td>1.791759</td>\n",
       "      <td>0.693147</td>\n",
       "      <td>-0.238796</td>\n",
       "      <td>-0.571520</td>\n",
       "      <td>-0.215376</td>\n",
       "      <td>-0.589768</td>\n",
       "      <td>-0.376011</td>\n",
       "      <td>-0.287863</td>\n",
       "    </tr>\n",
       "    <tr>\n",
       "      <th>774</th>\n",
       "      <td>1.0</td>\n",
       "      <td>0.0</td>\n",
       "      <td>0.0</td>\n",
       "      <td>4.139426</td>\n",
       "      <td>0.000000</td>\n",
       "      <td>10.445480</td>\n",
       "      <td>0.000000</td>\n",
       "      <td>0.000000</td>\n",
       "      <td>0.000000</td>\n",
       "      <td>6.970908</td>\n",
       "      <td>...</td>\n",
       "      <td>2.890372</td>\n",
       "      <td>1.386294</td>\n",
       "      <td>1.791759</td>\n",
       "      <td>2.197225</td>\n",
       "      <td>-0.238796</td>\n",
       "      <td>-0.571520</td>\n",
       "      <td>0.213715</td>\n",
       "      <td>-0.589768</td>\n",
       "      <td>-0.376011</td>\n",
       "      <td>-0.287863</td>\n",
       "    </tr>\n",
       "  </tbody>\n",
       "</table>\n",
       "<p>775 rows × 29 columns</p>\n",
       "</div>"
      ],
      "text/plain": [
       "     Sex_F  Sex_M  Sex_Unknown  log_ActBal_CA  log_ActBal_SA  log_ActBal_MF  \\\n",
       "0      0.0    1.0          0.0       8.817778       0.000000       0.000000   \n",
       "1      1.0    0.0          0.0       3.796011       0.000000       0.000000   \n",
       "2      0.0    1.0          0.0       3.402007       9.578367       0.000000   \n",
       "3      0.0    1.0          0.0       3.333479       0.000000       0.000000   \n",
       "4      0.0    1.0          0.0       5.848420       0.000000       0.000000   \n",
       "..     ...    ...          ...            ...            ...            ...   \n",
       "770    0.0    1.0          0.0       9.406382       0.000000       7.555303   \n",
       "771    0.0    1.0          0.0       8.012562       0.000000       0.000000   \n",
       "772    0.0    1.0          0.0       9.540861       0.000000       0.000000   \n",
       "773    0.0    1.0          0.0       7.791472       0.000000       0.000000   \n",
       "774    1.0    0.0          0.0       4.139426       0.000000      10.445480   \n",
       "\n",
       "     log_ActBal_OVD  log_ActBal_CC  log_ActBal_CL  log_VolumeCred  ...  \\\n",
       "0          0.000000       0.000000       0.000000        0.002141  ...   \n",
       "1          0.000000       0.000000       0.000000        7.239504  ...   \n",
       "2          0.000000       6.484498       7.033145        7.488924  ...   \n",
       "3          0.000000       0.000000       0.000000        0.006053  ...   \n",
       "4          6.428747       0.000000       0.000000        0.007472  ...   \n",
       "..              ...            ...            ...             ...  ...   \n",
       "770        0.000000       0.000000       0.000000        9.848528  ...   \n",
       "771        0.000000       0.000000       0.000000        0.000000  ...   \n",
       "772        0.000000       0.000000       7.476240        6.416558  ...   \n",
       "773        0.000000       0.000000       0.000000        4.483007  ...   \n",
       "774        0.000000       0.000000       0.000000        6.970908  ...   \n",
       "\n",
       "     log_TransactionsDeb_CA  log_TransactionsDebCash_Card  \\\n",
       "0                  0.693147                      0.000000   \n",
       "1                  1.945910                      0.000000   \n",
       "2                  3.663562                      0.693147   \n",
       "3                  0.000000                      0.000000   \n",
       "4                  1.791759                      0.000000   \n",
       "..                      ...                           ...   \n",
       "770                1.609438                      0.000000   \n",
       "771                0.000000                      0.000000   \n",
       "772                1.609438                      0.693147   \n",
       "773                2.197225                      1.098612   \n",
       "774                2.890372                      1.386294   \n",
       "\n",
       "     log_TransactionsDebCashless_Card  log_TransactionsDeb_PaymentOrder  \\\n",
       "0                            0.000000                          0.693147   \n",
       "1                            0.000000                          0.693147   \n",
       "2                            3.295837                          2.484907   \n",
       "3                            0.000000                          0.000000   \n",
       "4                            1.609438                          0.693147   \n",
       "..                                ...                               ...   \n",
       "770                          3.367296                          0.000000   \n",
       "771                          0.000000                          0.000000   \n",
       "772                          0.000000                          0.000000   \n",
       "773                          1.791759                          0.693147   \n",
       "774                          1.791759                          2.197225   \n",
       "\n",
       "     Count_CA  Count_SA  Count_MF  Count_OVD  Count_CC  Count_CL  \n",
       "0   -0.238796 -0.571520 -0.215376  -0.589768 -0.376011 -0.287863  \n",
       "1   -0.238796 -0.571520 -0.215376  -0.589768 -0.376011 -0.287863  \n",
       "2   -0.238796  1.125522 -0.215376  -0.589768  2.659496  2.854299  \n",
       "3   -0.238796 -0.571520 -0.215376  -0.589768 -0.376011 -0.287863  \n",
       "4   -0.238796 -0.571520 -0.215376   1.695582 -0.376011 -0.287863  \n",
       "..        ...       ...       ...        ...       ...       ...  \n",
       "770 -0.238796 -0.571520  0.428260  -0.589768  2.659496 -0.287863  \n",
       "771 -0.238796 -0.571520 -0.215376  -0.589768 -0.376011 -0.287863  \n",
       "772 -0.238796 -0.571520 -0.215376  -0.589768 -0.376011  5.996461  \n",
       "773 -0.238796 -0.571520 -0.215376  -0.589768 -0.376011 -0.287863  \n",
       "774 -0.238796 -0.571520  0.213715  -0.589768 -0.376011 -0.287863  \n",
       "\n",
       "[775 rows x 29 columns]"
      ]
     },
     "execution_count": 36,
     "metadata": {},
     "output_type": "execute_result"
    }
   ],
   "source": [
    "X_train"
   ]
  },
  {
   "cell_type": "markdown",
   "metadata": {},
   "source": [
    "## Propensity models"
   ]
  },
  {
   "cell_type": "code",
   "execution_count": 37,
   "metadata": {},
   "outputs": [],
   "source": [
    "def create_sale_label(product_name,df_train,df_val):\n",
    "    target_col = f'Sale_{product_name}'\n",
    "    \n",
    "    y_train = df_train[target_col]\n",
    "    y_val = df_val[target_col]\n",
    "    return y_train,y_val"
   ]
  },
  {
   "cell_type": "code",
   "execution_count": 38,
   "metadata": {},
   "outputs": [],
   "source": [
    "def load_sale_model(product_name,X_train,y_train):\n",
    "    model_path = f'models/sale_{product_name}.joblib'\n",
    "    if os.path.exists(model_path): # Try to load the existing model\n",
    "        sale_model = joblib.load(model_path)\n",
    "        print(f\"Loaded existing sale_{product_name} model.\")\n",
    "    else:\n",
    "        print(f'No existing revenue_{product_name} model. Training new model.')\n",
    "        sale_model = LogisticRegression(class_weight='balanced') #improvement using balanced weight #max_iter=500,\n",
    "        sale_model.fit(X_train, y_train)\n",
    "\n",
    "        joblib.dump(sale_model, model_path)\n",
    "    return sale_model"
   ]
  },
  {
   "cell_type": "code",
   "execution_count": 39,
   "metadata": {},
   "outputs": [],
   "source": [
    "def make_sale_pred(sale_model,X_val,product_name):\n",
    "    y_pred_prop = sale_model.predict_proba(X_val)[:,1]\n",
    "    X_val_client_pred=pd.concat([df_val_client.reset_index(drop=True),pd.DataFrame(y_pred_prop, columns=[f'Sale_{product_name}_pred']).reset_index(drop=True)],axis=1)\n",
    "    return X_val_client_pred"
   ]
  },
  {
   "cell_type": "markdown",
   "metadata": {},
   "source": [
    "### CC"
   ]
  },
  {
   "cell_type": "code",
   "execution_count": 40,
   "metadata": {},
   "outputs": [
    {
     "name": "stdout",
     "output_type": "stream",
     "text": [
      "No existing revenue_CC model. Training new model.\n",
      "              precision    recall  f1-score   support\n",
      "\n",
      "         0.0       0.79      0.68      0.73       147\n",
      "         1.0       0.31      0.45      0.37        47\n",
      "\n",
      "    accuracy                           0.62       194\n",
      "   macro avg       0.55      0.56      0.55       194\n",
      "weighted avg       0.68      0.62      0.64       194\n",
      "\n"
     ]
    },
    {
     "name": "stderr",
     "output_type": "stream",
     "text": [
      "C:\\Users\\PC\\AppData\\Roaming\\Python\\Python39\\site-packages\\sklearn\\linear_model\\_logistic.py:465: ConvergenceWarning: lbfgs failed to converge (status=1):\n",
      "STOP: TOTAL NO. of ITERATIONS REACHED LIMIT.\n",
      "\n",
      "Increase the number of iterations (max_iter) or scale the data as shown in:\n",
      "    https://scikit-learn.org/stable/modules/preprocessing.html\n",
      "Please also refer to the documentation for alternative solver options:\n",
      "    https://scikit-learn.org/stable/modules/linear_model.html#logistic-regression\n",
      "  n_iter_i = _check_optimize_result(\n"
     ]
    }
   ],
   "source": [
    "product_name = 'CC'\n",
    "y_train,y_val=create_sale_label(product_name,df_train,df_val)\n",
    "sale_model=load_sale_model(product_name,X_train,y_train)\n",
    "y_pred_prop_val = sale_model.predict(X_val)\n",
    "y_pred_prop_val\n",
    "print(classification_report(y_val, y_pred_prop_val))\n",
    "X_val_client_pred_CC = make_sale_pred(sale_model,X_val,product_name)"
   ]
  },
  {
   "cell_type": "markdown",
   "metadata": {},
   "source": [
    "#### other models using grid search and lightgbm"
   ]
  },
  {
   "cell_type": "code",
   "execution_count": 41,
   "metadata": {},
   "outputs": [],
   "source": [
    "product_name = 'CC'\n",
    "y_train_CC = df_train['Sale_CC']\n",
    "y_val_CC = df_val['Sale_CC']"
   ]
  },
  {
   "cell_type": "code",
   "execution_count": 42,
   "metadata": {},
   "outputs": [
    {
     "data": {
      "text/plain": [
       "0.25161290322580643"
      ]
     },
     "execution_count": 42,
     "metadata": {},
     "output_type": "execute_result"
    }
   ],
   "source": [
    "y_train_CC.sum()/(len(y_train_CC))"
   ]
  },
  {
   "cell_type": "code",
   "execution_count": 43,
   "metadata": {},
   "outputs": [
    {
     "name": "stdout",
     "output_type": "stream",
     "text": [
      "Fitting 5 folds for each of 32 candidates, totalling 160 fits\n",
      "[LightGBM] [Info] Number of positive: 195, number of negative: 580\n",
      "[LightGBM] [Info] Auto-choosing col-wise multi-threading, the overhead of testing was 0.000573 seconds.\n",
      "You can set `force_col_wise=true` to remove the overhead.\n",
      "[LightGBM] [Info] Total Bins 2111\n",
      "[LightGBM] [Info] Number of data points in the train set: 775, number of used features: 28\n",
      "[LightGBM] [Info] [binary:BoostFromScore]: pavg=0.251613 -> initscore=-1.090029\n",
      "[LightGBM] [Info] Start training from score -1.090029\n",
      "Best AUC: 0.7384\n",
      "Best params: {'boosting_type': 'gbdt', 'learning_rate': 0.01, 'n_estimators': 50, 'num_leaves': 5, 'reg_alpha': 0.5, 'reg_lambda': 0}\n"
     ]
    }
   ],
   "source": [
    "skf = StratifiedKFold(n_splits=5, shuffle=True, random_state=42)\n",
    "lgb_clf = lgb.LGBMClassifier(objective='binary', is_unbalance=True)\n",
    "\n",
    "# Define hyperparameter grid\n",
    "param_grid = {\n",
    "    'num_leaves': [5,10,],\n",
    "    'learning_rate': [0.01, 0.1],\n",
    "    'n_estimators': [20,50,],\n",
    "    'reg_alpha': [0, 0.5],\n",
    "    'reg_lambda': [0, 0.5],\n",
    "    'boosting_type': ['gbdt'],\n",
    "}\n",
    "\n",
    "# Run grid search\n",
    "grid_search = GridSearchCV(\n",
    "    estimator=lgb_clf,\n",
    "    param_grid=param_grid,\n",
    "    scoring='precision',#roc_auc\n",
    "    cv=skf,\n",
    "    n_jobs=-1,\n",
    "    verbose=2\n",
    ")\n",
    "grid_search.fit(X_train, y_train_CC)\n",
    "\n",
    "# Best parameters and score\n",
    "print(f\"Best AUC: {grid_search.best_score_:.4f}\")\n",
    "print(f\"Best params: {grid_search.best_params_}\")"
   ]
  },
  {
   "cell_type": "code",
   "execution_count": 44,
   "metadata": {},
   "outputs": [
    {
     "name": "stdout",
     "output_type": "stream",
     "text": [
      "              precision    recall  f1-score   support\n",
      "\n",
      "         0.0       0.77      0.98      0.86       147\n",
      "         1.0       0.57      0.09      0.15        47\n",
      "\n",
      "    accuracy                           0.76       194\n",
      "   macro avg       0.67      0.53      0.51       194\n",
      "weighted avg       0.72      0.76      0.69       194\n",
      "\n",
      "confusion_matrix \n",
      " [[144   3]\n",
      " [ 43   4]]\n"
     ]
    }
   ],
   "source": [
    "sale_model = grid_search.best_estimator_\n",
    "y_pred_prop_CC = sale_model.predict(X_val)\n",
    "print(classification_report(y_val_CC, y_pred_prop_CC))\n",
    "cm = confusion_matrix(y_val_CC, y_pred_prop_CC)\n",
    "print(\"confusion_matrix \\n\", cm)"
   ]
  },
  {
   "cell_type": "markdown",
   "metadata": {},
   "source": [
    "### MF"
   ]
  },
  {
   "cell_type": "code",
   "execution_count": 45,
   "metadata": {},
   "outputs": [
    {
     "name": "stdout",
     "output_type": "stream",
     "text": [
      "No existing revenue_MF model. Training new model.\n",
      "              precision    recall  f1-score   support\n",
      "\n",
      "         0.0       0.79      0.74      0.76       144\n",
      "         1.0       0.37      0.44      0.40        50\n",
      "\n",
      "    accuracy                           0.66       194\n",
      "   macro avg       0.58      0.59      0.58       194\n",
      "weighted avg       0.68      0.66      0.67       194\n",
      "\n"
     ]
    },
    {
     "name": "stderr",
     "output_type": "stream",
     "text": [
      "C:\\Users\\PC\\AppData\\Roaming\\Python\\Python39\\site-packages\\sklearn\\linear_model\\_logistic.py:465: ConvergenceWarning: lbfgs failed to converge (status=1):\n",
      "STOP: TOTAL NO. of ITERATIONS REACHED LIMIT.\n",
      "\n",
      "Increase the number of iterations (max_iter) or scale the data as shown in:\n",
      "    https://scikit-learn.org/stable/modules/preprocessing.html\n",
      "Please also refer to the documentation for alternative solver options:\n",
      "    https://scikit-learn.org/stable/modules/linear_model.html#logistic-regression\n",
      "  n_iter_i = _check_optimize_result(\n"
     ]
    }
   ],
   "source": [
    "product_name = 'MF'\n",
    "y_train,y_val=create_sale_label(product_name,df_train,df_val)\n",
    "sale_model=load_sale_model(product_name,X_train,y_train)\n",
    "X_val_client_pred_MF = make_sale_pred(sale_model,X_val,product_name)\n",
    "y_pred_prop_val_MF = sale_model.predict(X_val)\n",
    "y_pred_prop_val_MF\n",
    "print(classification_report(y_val, y_pred_prop_val_MF))"
   ]
  },
  {
   "cell_type": "markdown",
   "metadata": {},
   "source": [
    "#### other models using grid search and lightgbm"
   ]
  },
  {
   "cell_type": "code",
   "execution_count": 46,
   "metadata": {},
   "outputs": [
    {
     "data": {
      "text/plain": [
       "0.18451612903225806"
      ]
     },
     "execution_count": 46,
     "metadata": {},
     "output_type": "execute_result"
    }
   ],
   "source": [
    "y_train_MF = df_train['Sale_MF']\n",
    "y_val_MF = df_val['Sale_MF']\n",
    "y_train_MF.sum()/(len(y_train_MF))"
   ]
  },
  {
   "cell_type": "code",
   "execution_count": 47,
   "metadata": {},
   "outputs": [
    {
     "name": "stdout",
     "output_type": "stream",
     "text": [
      "Fitting 5 folds for each of 32 candidates, totalling 160 fits\n",
      "[LightGBM] [Info] Number of positive: 143, number of negative: 632\n",
      "[LightGBM] [Info] Auto-choosing row-wise multi-threading, the overhead of testing was 0.000327 seconds.\n",
      "You can set `force_row_wise=true` to remove the overhead.\n",
      "And if memory is not enough, you can set `force_col_wise=true`.\n",
      "[LightGBM] [Info] Total Bins 2111\n",
      "[LightGBM] [Info] Number of data points in the train set: 775, number of used features: 28\n",
      "[LightGBM] [Info] [binary:BoostFromScore]: pavg=0.184516 -> initscore=-1.486045\n",
      "[LightGBM] [Info] Start training from score -1.486045\n",
      "Best AUC: 0.5928\n",
      "Best params: {'boosting_type': 'gbdt', 'learning_rate': 0.1, 'n_estimators': 50, 'num_leaves': 5, 'reg_alpha': 0, 'reg_lambda': 0}\n"
     ]
    }
   ],
   "source": [
    "skf = StratifiedKFold(n_splits=5, shuffle=True, random_state=42)\n",
    "lgb_clf = lgb.LGBMClassifier(objective='binary', is_unbalance=True)\n",
    "\n",
    "# Define hyperparameter grid\n",
    "param_grid = {\n",
    "    'num_leaves': [5,10,],\n",
    "    'learning_rate': [0.01, 0.1],\n",
    "    'n_estimators': [20,50,],\n",
    "    'reg_alpha': [0, 0.5],\n",
    "    'reg_lambda': [0, 0.5],\n",
    "    'boosting_type': ['gbdt'],\n",
    "}\n",
    "\n",
    "# Run grid search\n",
    "grid_search = GridSearchCV(\n",
    "    estimator=lgb_clf,\n",
    "    param_grid=param_grid,\n",
    "    scoring='roc_auc',#roc_auc\n",
    "    cv=skf,\n",
    "    n_jobs=-1,\n",
    "    verbose=2\n",
    ")\n",
    "grid_search.fit(X_train, y_train_MF)\n",
    "\n",
    "# Best parameters and score\n",
    "print(f\"Best AUC: {grid_search.best_score_:.4f}\")\n",
    "print(f\"Best params: {grid_search.best_params_}\")"
   ]
  },
  {
   "cell_type": "code",
   "execution_count": 48,
   "metadata": {},
   "outputs": [
    {
     "name": "stdout",
     "output_type": "stream",
     "text": [
      "              precision    recall  f1-score   support\n",
      "\n",
      "         0.0       0.78      0.77      0.78       144\n",
      "         1.0       0.37      0.38      0.37        50\n",
      "\n",
      "    accuracy                           0.67       194\n",
      "   macro avg       0.57      0.58      0.57       194\n",
      "weighted avg       0.67      0.67      0.67       194\n",
      "\n",
      "confusion_matrix \n",
      " [[111  33]\n",
      " [ 31  19]]\n"
     ]
    }
   ],
   "source": [
    "best_model = grid_search.best_estimator_\n",
    "y_pred_lr_MF = best_model.predict(X_val)\n",
    "print(classification_report(y_val_MF, y_pred_lr_MF))\n",
    "cm = confusion_matrix(y_val_MF, y_pred_lr_MF)\n",
    "print(\"confusion_matrix \\n\", cm)"
   ]
  },
  {
   "cell_type": "markdown",
   "metadata": {},
   "source": [
    "### CL"
   ]
  },
  {
   "cell_type": "code",
   "execution_count": 49,
   "metadata": {},
   "outputs": [
    {
     "name": "stdout",
     "output_type": "stream",
     "text": [
      "No existing revenue_CL model. Training new model.\n",
      "              precision    recall  f1-score   support\n",
      "\n",
      "         0.0       0.75      0.59      0.66       139\n",
      "         1.0       0.33      0.51      0.40        55\n",
      "\n",
      "    accuracy                           0.57       194\n",
      "   macro avg       0.54      0.55      0.53       194\n",
      "weighted avg       0.63      0.57      0.59       194\n",
      "\n"
     ]
    },
    {
     "name": "stderr",
     "output_type": "stream",
     "text": [
      "C:\\Users\\PC\\AppData\\Roaming\\Python\\Python39\\site-packages\\sklearn\\linear_model\\_logistic.py:465: ConvergenceWarning: lbfgs failed to converge (status=1):\n",
      "STOP: TOTAL NO. of ITERATIONS REACHED LIMIT.\n",
      "\n",
      "Increase the number of iterations (max_iter) or scale the data as shown in:\n",
      "    https://scikit-learn.org/stable/modules/preprocessing.html\n",
      "Please also refer to the documentation for alternative solver options:\n",
      "    https://scikit-learn.org/stable/modules/linear_model.html#logistic-regression\n",
      "  n_iter_i = _check_optimize_result(\n"
     ]
    }
   ],
   "source": [
    "product_name = 'CL'\n",
    "y_train,y_val=create_sale_label(product_name,df_train,df_val)\n",
    "sale_model=load_sale_model(product_name,X_train,y_train)\n",
    "y_pred_prop_val_CL = sale_model.predict(X_val)\n",
    "y_pred_prop_val_CL\n",
    "print(classification_report(y_val, y_pred_prop_val_CL))\n",
    "X_val_client_pred_CL = make_sale_pred(sale_model,X_val,product_name)"
   ]
  },
  {
   "cell_type": "markdown",
   "metadata": {},
   "source": [
    "#### other models using grid search and lightgbm"
   ]
  },
  {
   "cell_type": "code",
   "execution_count": 50,
   "metadata": {},
   "outputs": [
    {
     "data": {
      "text/plain": [
       "0.3032258064516129"
      ]
     },
     "execution_count": 50,
     "metadata": {},
     "output_type": "execute_result"
    }
   ],
   "source": [
    "y_train_CL = df_train['Sale_CL']\n",
    "y_val_CL = df_val['Sale_CL']\n",
    "y_train_CL.sum()/(len(y_train_CL))"
   ]
  },
  {
   "cell_type": "code",
   "execution_count": 51,
   "metadata": {},
   "outputs": [
    {
     "name": "stdout",
     "output_type": "stream",
     "text": [
      "Fitting 5 folds for each of 32 candidates, totalling 160 fits\n",
      "[LightGBM] [Info] Number of positive: 235, number of negative: 540\n",
      "[LightGBM] [Info] Auto-choosing col-wise multi-threading, the overhead of testing was 0.000450 seconds.\n",
      "You can set `force_col_wise=true` to remove the overhead.\n",
      "[LightGBM] [Info] Total Bins 2111\n",
      "[LightGBM] [Info] Number of data points in the train set: 775, number of used features: 28\n",
      "[LightGBM] [Info] [binary:BoostFromScore]: pavg=0.500000 -> initscore=-0.000000\n",
      "[LightGBM] [Info] Start training from score -0.000000\n",
      "Best AUC: 0.5600\n",
      "Best params: {'boosting_type': 'gbdt', 'learning_rate': 0.1, 'n_estimators': 50, 'num_leaves': 10, 'reg_alpha': 0.5, 'reg_lambda': 0}\n"
     ]
    }
   ],
   "source": [
    "skf = StratifiedKFold(n_splits=5, shuffle=True, random_state=42)\n",
    "lgb_clf = lgb.LGBMClassifier(objective='binary', class_weight='balanced',is_unbalance=True)\n",
    "\n",
    "# Define hyperparameter grid\n",
    "param_grid = {\n",
    "    'num_leaves': [5,10,],\n",
    "    'learning_rate': [0.01, 0.1],\n",
    "    'n_estimators': [20,50,],\n",
    "    'reg_alpha': [0, 0.5],\n",
    "    'reg_lambda': [0, 0.5],\n",
    "    'boosting_type': ['gbdt'],\n",
    "}\n",
    "\n",
    "# Run grid search\n",
    "grid_search = GridSearchCV(\n",
    "    estimator=lgb_clf,\n",
    "    param_grid=param_grid,\n",
    "    scoring='roc_auc',#roc_auc\n",
    "    cv=skf,\n",
    "    n_jobs=-1,\n",
    "    verbose=2\n",
    ")\n",
    "grid_search.fit(X_train, y_train_CL)\n",
    "\n",
    "# Best parameters and score\n",
    "print(f\"Best AUC: {grid_search.best_score_:.4f}\")\n",
    "print(f\"Best params: {grid_search.best_params_}\")"
   ]
  },
  {
   "cell_type": "code",
   "execution_count": 52,
   "metadata": {},
   "outputs": [
    {
     "name": "stdout",
     "output_type": "stream",
     "text": [
      "              precision    recall  f1-score   support\n",
      "\n",
      "         0.0       0.70      0.22      0.34       139\n",
      "         1.0       0.28      0.76      0.41        55\n",
      "\n",
      "    accuracy                           0.38       194\n",
      "   macro avg       0.49      0.49      0.37       194\n",
      "weighted avg       0.58      0.38      0.36       194\n",
      "\n",
      "confusion_matrix \n",
      " [[ 31 113]\n",
      " [ 13  37]]\n"
     ]
    }
   ],
   "source": [
    "best_model = grid_search.best_estimator_\n",
    "y_pred_lr_CL = best_model.predict(X_val)\n",
    "print(classification_report(y_val_CL, y_pred_lr_CL))\n",
    "cm = confusion_matrix(y_val_MF, y_pred_lr_CL)\n",
    "print(\"confusion_matrix \\n\", cm)"
   ]
  },
  {
   "cell_type": "markdown",
   "metadata": {},
   "source": [
    "### combine prop"
   ]
  },
  {
   "cell_type": "code",
   "execution_count": 53,
   "metadata": {},
   "outputs": [
    {
     "data": {
      "text/html": [
       "<div>\n",
       "<style scoped>\n",
       "    .dataframe tbody tr th:only-of-type {\n",
       "        vertical-align: middle;\n",
       "    }\n",
       "\n",
       "    .dataframe tbody tr th {\n",
       "        vertical-align: top;\n",
       "    }\n",
       "\n",
       "    .dataframe thead th {\n",
       "        text-align: right;\n",
       "    }\n",
       "</style>\n",
       "<table border=\"1\" class=\"dataframe\">\n",
       "  <thead>\n",
       "    <tr style=\"text-align: right;\">\n",
       "      <th></th>\n",
       "      <th>Client</th>\n",
       "      <th>Sale_CC_pred</th>\n",
       "      <th>Sale_MF_pred</th>\n",
       "      <th>Sale_CL_pred</th>\n",
       "    </tr>\n",
       "  </thead>\n",
       "  <tbody>\n",
       "    <tr>\n",
       "      <th>0</th>\n",
       "      <td>186</td>\n",
       "      <td>0.572358</td>\n",
       "      <td>0.538489</td>\n",
       "      <td>0.711099</td>\n",
       "    </tr>\n",
       "    <tr>\n",
       "      <th>1</th>\n",
       "      <td>285</td>\n",
       "      <td>0.353562</td>\n",
       "      <td>0.286136</td>\n",
       "      <td>0.478359</td>\n",
       "    </tr>\n",
       "    <tr>\n",
       "      <th>2</th>\n",
       "      <td>1404</td>\n",
       "      <td>0.403924</td>\n",
       "      <td>0.499376</td>\n",
       "      <td>0.460011</td>\n",
       "    </tr>\n",
       "    <tr>\n",
       "      <th>3</th>\n",
       "      <td>441</td>\n",
       "      <td>0.444564</td>\n",
       "      <td>0.620569</td>\n",
       "      <td>0.544459</td>\n",
       "    </tr>\n",
       "    <tr>\n",
       "      <th>4</th>\n",
       "      <td>1461</td>\n",
       "      <td>0.650395</td>\n",
       "      <td>0.597949</td>\n",
       "      <td>0.500675</td>\n",
       "    </tr>\n",
       "    <tr>\n",
       "      <th>...</th>\n",
       "      <td>...</td>\n",
       "      <td>...</td>\n",
       "      <td>...</td>\n",
       "      <td>...</td>\n",
       "    </tr>\n",
       "    <tr>\n",
       "      <th>189</th>\n",
       "      <td>1500</td>\n",
       "      <td>0.425334</td>\n",
       "      <td>0.391963</td>\n",
       "      <td>0.477972</td>\n",
       "    </tr>\n",
       "    <tr>\n",
       "      <th>190</th>\n",
       "      <td>172</td>\n",
       "      <td>0.612976</td>\n",
       "      <td>0.432052</td>\n",
       "      <td>0.606220</td>\n",
       "    </tr>\n",
       "    <tr>\n",
       "      <th>191</th>\n",
       "      <td>573</td>\n",
       "      <td>0.413495</td>\n",
       "      <td>0.342952</td>\n",
       "      <td>0.431925</td>\n",
       "    </tr>\n",
       "    <tr>\n",
       "      <th>192</th>\n",
       "      <td>621</td>\n",
       "      <td>0.519811</td>\n",
       "      <td>0.438902</td>\n",
       "      <td>0.405605</td>\n",
       "    </tr>\n",
       "    <tr>\n",
       "      <th>193</th>\n",
       "      <td>977</td>\n",
       "      <td>0.425497</td>\n",
       "      <td>0.369162</td>\n",
       "      <td>0.429193</td>\n",
       "    </tr>\n",
       "  </tbody>\n",
       "</table>\n",
       "<p>194 rows × 4 columns</p>\n",
       "</div>"
      ],
      "text/plain": [
       "     Client  Sale_CC_pred  Sale_MF_pred  Sale_CL_pred\n",
       "0       186      0.572358      0.538489      0.711099\n",
       "1       285      0.353562      0.286136      0.478359\n",
       "2      1404      0.403924      0.499376      0.460011\n",
       "3       441      0.444564      0.620569      0.544459\n",
       "4      1461      0.650395      0.597949      0.500675\n",
       "..      ...           ...           ...           ...\n",
       "189    1500      0.425334      0.391963      0.477972\n",
       "190     172      0.612976      0.432052      0.606220\n",
       "191     573      0.413495      0.342952      0.431925\n",
       "192     621      0.519811      0.438902      0.405605\n",
       "193     977      0.425497      0.369162      0.429193\n",
       "\n",
       "[194 rows x 4 columns]"
      ]
     },
     "execution_count": 53,
     "metadata": {},
     "output_type": "execute_result"
    }
   ],
   "source": [
    "\n",
    "sales_pred_df = X_val_client_pred_CC.merge(X_val_client_pred_MF,on='Client',how='left').merge(X_val_client_pred_CL,on='Client',how='left')\n",
    "sales_pred_df"
   ]
  },
  {
   "cell_type": "markdown",
   "metadata": {},
   "source": [
    "## regression"
   ]
  },
  {
   "cell_type": "code",
   "execution_count": 54,
   "metadata": {},
   "outputs": [],
   "source": [
    "def create_revenue_data(product_name):\n",
    "    client_train = list(df_train[df_train[f'Sale_{product_name}'] == 1].Client)\n",
    "    client_val = list(df_val.Client)    \n",
    "    y_revenue_train = np.log1p(df_train[df_train.Client.isin(client_train)][f'Revenue_{product_name}'])\n",
    "    y_revenue_val= np.log1p(df_val[df_val.Client.isin(client_val)][f'Revenue_{product_name}'])\n",
    "    \n",
    "    X_train_client = pd.concat([X_train,df_train.Client.reset_index(drop=True)],axis=1)\n",
    "    X_val_client = pd.concat([X_val,df_val.Client.reset_index(drop=True)],axis=1)\n",
    "    \n",
    "    X_train_reg =X_train_client[X_train_client.Client.isin(client_train)].drop(columns='Client')\n",
    "    X_val_reg =X_val_client[X_val_client.Client.isin(client_val)].drop(columns='Client')\n",
    "    return X_train_reg,X_val_reg,y_revenue_train,y_revenue_val,X_train_client,X_val_client"
   ]
  },
  {
   "cell_type": "code",
   "execution_count": 55,
   "metadata": {},
   "outputs": [],
   "source": [
    "def load_model(product_name,X_train_reg,y_revenue_train):\n",
    "    model_path = f'models/revenue_{product_name}.joblib'\n",
    "    if os.path.exists(model_path): # Try to load the existing model\n",
    "        reg_model = joblib.load(model_path)\n",
    "        print(f\"Loaded existing revenue_{product_name} model.\")\n",
    "    else:\n",
    "        print(f'No existing revenue_{product_name} model. Training new model.')\n",
    "        reg_model = LinearRegression()\n",
    "        reg_model.fit(X_train_reg, y_revenue_train)\n",
    "\n",
    "        joblib.dump(reg_model, model_path)\n",
    "    return reg_model"
   ]
  },
  {
   "cell_type": "code",
   "execution_count": 56,
   "metadata": {},
   "outputs": [],
   "source": [
    "def make_reg_prediction(reg_model, X_val_reg,y_revenue_val):\n",
    "    y_revenue_val_pred = reg_model.predict(X_val_reg)\n",
    "    print(f\"Validation R²: {r2_score(y_revenue_val, y_revenue_val_pred):.3f}\")\n",
    "    \n",
    "    y_revenue_val_pred_exp=np.exp(y_revenue_val_pred)\n",
    "    return y_revenue_val_pred_exp"
   ]
  },
  {
   "cell_type": "markdown",
   "metadata": {},
   "source": [
    "### CC"
   ]
  },
  {
   "cell_type": "code",
   "execution_count": 57,
   "metadata": {},
   "outputs": [
    {
     "name": "stdout",
     "output_type": "stream",
     "text": [
      "No existing revenue_CC model. Training new model.\n",
      "Validation R²: -3.381\n"
     ]
    }
   ],
   "source": [
    "product_name = 'CC'\n",
    "X_train_reg,X_val_reg,y_revenue_train,y_revenue_val,X_train_client,X_val_client=create_revenue_data(product_name)\n",
    "reg_model = load_model(product_name,X_train_reg,y_revenue_train,)\n",
    "y_revenue_val_pred_exp = make_reg_prediction(reg_model, X_val_reg,y_revenue_val)\n",
    "X_val_client_pred_CC=pd.concat([X_val_client[['Client']].reset_index(drop=True),pd.DataFrame(y_revenue_val_pred_exp, columns=[f'Revenue_{product_name}_pred']).reset_index(drop=True)],axis=1)"
   ]
  },
  {
   "cell_type": "markdown",
   "metadata": {},
   "source": [
    "#### other models using grid search and lightgbm"
   ]
  },
  {
   "cell_type": "markdown",
   "metadata": {},
   "source": [
    "This model, although error is smaller, the prediction are almost the same value."
   ]
  },
  {
   "cell_type": "code",
   "execution_count": 58,
   "metadata": {},
   "outputs": [
    {
     "name": "stdout",
     "output_type": "stream",
     "text": [
      "Fitting 5 folds for each of 256 candidates, totalling 1280 fits\n",
      "[LightGBM] [Info] Auto-choosing col-wise multi-threading, the overhead of testing was 0.000397 seconds.\n",
      "You can set `force_col_wise=true` to remove the overhead.\n",
      "[LightGBM] [Info] Total Bins 679\n",
      "[LightGBM] [Info] Number of data points in the train set: 195, number of used features: 28\n",
      "[LightGBM] [Info] Start training from score 1.767796\n",
      "Best RMSE: 0.99\n",
      "Best R²: -0.05\n",
      "Best Parameters: {'boosting_type': 'gbdt', 'learning_rate': 0.01, 'max_depth': -1, 'min_child_samples': 5, 'n_estimators': 5, 'num_leaves': 3, 'reg_alpha': 0, 'reg_lambda': 0.1}\n",
      "MAE (log scale): 1.474\n",
      "\n",
      "Validation RMSE: 2.49\n",
      "Validation R²: -3.02\n"
     ]
    }
   ],
   "source": [
    "# Initialize LGBMRegressor\n",
    "lgb_reg = lgb.LGBMRegressor(objective='regression', random_state=42)\n",
    "\n",
    "# Define parameter grid for tuning\n",
    "param_grid = {\n",
    "    'num_leaves': [5, 3],          # Controls model complexity\n",
    "    'learning_rate': [0.01, 0.1],     # Step size shrinkage\n",
    "    'n_estimators': [10,5],       # Number of boosting rounds\n",
    "    'max_depth': [-1, 5],             # -1 = no limit\n",
    "    'min_child_samples': [10, 5],    # Minimum data in leaf\n",
    "    'reg_alpha': [0, 0.1],            # L1 regularization\n",
    "    'reg_lambda': [0, 0.1],           # L2 regularization\n",
    "    'boosting_type': ['gbdt', 'dart'] # Traditional or Dropout\n",
    "}\n",
    "\n",
    "# Set up cross-validation\n",
    "cv = KFold(n_splits=5, shuffle=True, random_state=42)\n",
    "\n",
    "# Custom scoring dictionary\n",
    "scoring = {\n",
    "    'rmse': 'neg_root_mean_squared_error',\n",
    "    'r2': 'r2'\n",
    "}\n",
    "\n",
    "# Configure grid search\n",
    "grid_search = GridSearchCV(\n",
    "    estimator=lgb_reg,\n",
    "    param_grid=param_grid,\n",
    "    scoring=scoring,\n",
    "    cv=cv,\n",
    "    refit='rmse',  # Optimize for RMSE\n",
    "    n_jobs=-1,\n",
    "    verbose=1\n",
    ")\n",
    "\n",
    "# Run grid search\n",
    "grid_search.fit(X_train_reg, y_revenue_train)\n",
    "\n",
    "# Best model results\n",
    "best_model = grid_search.best_estimator_\n",
    "best_params = grid_search.best_params_\n",
    "best_rmse = -grid_search.cv_results_['mean_test_rmse'][grid_search.best_index_]\n",
    "best_r2 = grid_search.cv_results_['mean_test_r2'][grid_search.best_index_]\n",
    "\n",
    "print(f\"Best RMSE: {best_rmse:.2f}\")\n",
    "print(f\"Best R²: {best_r2:.2f}\")\n",
    "print(f\"Best Parameters: {best_params}\")\n",
    "\n",
    "# Test set evaluation\n",
    "y_pred = best_model.predict(X_val_reg)\n",
    "val_rmse = mean_squared_error(y_revenue_val, y_pred)\n",
    "val_r2 = r2_score(y_revenue_val, y_pred)\n",
    "mae_log = mean_absolute_error(y_revenue_val, y_pred)\n",
    "print(f\"MAE (log scale): {mae_log:.3f}\")\n",
    "print(f\"\\nValidation RMSE: {val_rmse:.2f}\")\n",
    "print(f\"Validation R²: {val_r2:.2f}\")"
   ]
  },
  {
   "cell_type": "code",
   "execution_count": 59,
   "metadata": {},
   "outputs": [
    {
     "name": "stdout",
     "output_type": "stream",
     "text": [
      "Validation R²: -3.025\n"
     ]
    },
    {
     "data": {
      "text/plain": [
       "5.828861    147\n",
       "5.823653     29\n",
       "6.096750     18\n",
       "Name: Revenue_CC_pred, dtype: int64"
      ]
     },
     "execution_count": 59,
     "metadata": {},
     "output_type": "execute_result"
    }
   ],
   "source": [
    "y_revenue_val_pred_exp = make_reg_prediction(best_model, X_val_reg,y_revenue_val)\n",
    "X_val_client_pred_CC2=pd.concat([df_val[df_val[f'Sale_{product_name}'] == 1].Client.reset_index(drop=True),pd.DataFrame(y_revenue_val_pred_exp, columns=[f'Revenue_{product_name}_pred']).reset_index(drop=True)],axis=1)\n",
    "X_val_client_pred_CC2.Revenue_CC_pred.value_counts()"
   ]
  },
  {
   "cell_type": "markdown",
   "metadata": {},
   "source": [
    "### MF"
   ]
  },
  {
   "cell_type": "code",
   "execution_count": 60,
   "metadata": {},
   "outputs": [
    {
     "name": "stdout",
     "output_type": "stream",
     "text": [
      "No existing revenue_MF model. Training new model.\n",
      "Validation R²: -1.521\n"
     ]
    }
   ],
   "source": [
    "product_name = 'MF'\n",
    "X_train_reg,X_val_reg,y_revenue_train,y_revenue_val,X_train_client,X_val_client=create_revenue_data(product_name)\n",
    "reg_model = load_model(product_name,X_train_reg,y_revenue_train,)\n",
    "y_revenue_val_pred_exp = make_reg_prediction(reg_model, X_val_reg,y_revenue_val)\n",
    "X_val_client_pred_MF=pd.concat([X_val_client[['Client']].reset_index(drop=True),pd.DataFrame(y_revenue_val_pred_exp, columns=[f'Revenue_{product_name}_pred']).reset_index(drop=True)],axis=1)"
   ]
  },
  {
   "cell_type": "markdown",
   "metadata": {},
   "source": [
    "### CL"
   ]
  },
  {
   "cell_type": "code",
   "execution_count": 61,
   "metadata": {},
   "outputs": [
    {
     "name": "stdout",
     "output_type": "stream",
     "text": [
      "No existing revenue_CL model. Training new model.\n",
      "Validation R²: -2.720\n"
     ]
    }
   ],
   "source": [
    "product_name = 'CL'\n",
    "X_train_reg,X_val_reg,y_revenue_train,y_revenue_val,X_train_client,X_val_client=create_revenue_data(product_name)\n",
    "reg_model = load_model(product_name,X_train_reg,y_revenue_train,)\n",
    "y_revenue_val_pred_exp = make_reg_prediction(reg_model, X_val_reg,y_revenue_val)\n",
    "X_val_client_pred_CL=pd.concat([X_val_client[['Client']].reset_index(drop=True),pd.DataFrame(y_revenue_val_pred_exp, columns=[f'Revenue_{product_name}_pred']).reset_index(drop=True)],axis=1)"
   ]
  },
  {
   "cell_type": "markdown",
   "metadata": {},
   "source": [
    "### combine reg"
   ]
  },
  {
   "cell_type": "code",
   "execution_count": 62,
   "metadata": {},
   "outputs": [
    {
     "data": {
      "text/html": [
       "<div>\n",
       "<style scoped>\n",
       "    .dataframe tbody tr th:only-of-type {\n",
       "        vertical-align: middle;\n",
       "    }\n",
       "\n",
       "    .dataframe tbody tr th {\n",
       "        vertical-align: top;\n",
       "    }\n",
       "\n",
       "    .dataframe thead th {\n",
       "        text-align: right;\n",
       "    }\n",
       "</style>\n",
       "<table border=\"1\" class=\"dataframe\">\n",
       "  <thead>\n",
       "    <tr style=\"text-align: right;\">\n",
       "      <th></th>\n",
       "      <th>Client</th>\n",
       "      <th>Revenue_CC_pred</th>\n",
       "      <th>Revenue_MF_pred</th>\n",
       "      <th>Revenue_CL_pred</th>\n",
       "    </tr>\n",
       "  </thead>\n",
       "  <tbody>\n",
       "    <tr>\n",
       "      <th>0</th>\n",
       "      <td>186</td>\n",
       "      <td>3.859321</td>\n",
       "      <td>5.992045</td>\n",
       "      <td>11.878522</td>\n",
       "    </tr>\n",
       "    <tr>\n",
       "      <th>1</th>\n",
       "      <td>285</td>\n",
       "      <td>5.095474</td>\n",
       "      <td>7.498962</td>\n",
       "      <td>10.856402</td>\n",
       "    </tr>\n",
       "    <tr>\n",
       "      <th>2</th>\n",
       "      <td>1404</td>\n",
       "      <td>7.897685</td>\n",
       "      <td>4.157923</td>\n",
       "      <td>10.956249</td>\n",
       "    </tr>\n",
       "    <tr>\n",
       "      <th>3</th>\n",
       "      <td>441</td>\n",
       "      <td>6.005305</td>\n",
       "      <td>3.957508</td>\n",
       "      <td>10.381478</td>\n",
       "    </tr>\n",
       "    <tr>\n",
       "      <th>4</th>\n",
       "      <td>1461</td>\n",
       "      <td>8.292921</td>\n",
       "      <td>4.407672</td>\n",
       "      <td>12.010451</td>\n",
       "    </tr>\n",
       "    <tr>\n",
       "      <th>...</th>\n",
       "      <td>...</td>\n",
       "      <td>...</td>\n",
       "      <td>...</td>\n",
       "      <td>...</td>\n",
       "    </tr>\n",
       "    <tr>\n",
       "      <th>189</th>\n",
       "      <td>1500</td>\n",
       "      <td>12.574076</td>\n",
       "      <td>6.077785</td>\n",
       "      <td>9.395879</td>\n",
       "    </tr>\n",
       "    <tr>\n",
       "      <th>190</th>\n",
       "      <td>172</td>\n",
       "      <td>11.246597</td>\n",
       "      <td>23.184237</td>\n",
       "      <td>8.069526</td>\n",
       "    </tr>\n",
       "    <tr>\n",
       "      <th>191</th>\n",
       "      <td>573</td>\n",
       "      <td>6.254133</td>\n",
       "      <td>3.493207</td>\n",
       "      <td>12.019884</td>\n",
       "    </tr>\n",
       "    <tr>\n",
       "      <th>192</th>\n",
       "      <td>621</td>\n",
       "      <td>6.445230</td>\n",
       "      <td>6.292647</td>\n",
       "      <td>15.589932</td>\n",
       "    </tr>\n",
       "    <tr>\n",
       "      <th>193</th>\n",
       "      <td>977</td>\n",
       "      <td>4.324634</td>\n",
       "      <td>10.671016</td>\n",
       "      <td>11.473045</td>\n",
       "    </tr>\n",
       "  </tbody>\n",
       "</table>\n",
       "<p>194 rows × 4 columns</p>\n",
       "</div>"
      ],
      "text/plain": [
       "     Client  Revenue_CC_pred  Revenue_MF_pred  Revenue_CL_pred\n",
       "0       186         3.859321         5.992045        11.878522\n",
       "1       285         5.095474         7.498962        10.856402\n",
       "2      1404         7.897685         4.157923        10.956249\n",
       "3       441         6.005305         3.957508        10.381478\n",
       "4      1461         8.292921         4.407672        12.010451\n",
       "..      ...              ...              ...              ...\n",
       "189    1500        12.574076         6.077785         9.395879\n",
       "190     172        11.246597        23.184237         8.069526\n",
       "191     573         6.254133         3.493207        12.019884\n",
       "192     621         6.445230         6.292647        15.589932\n",
       "193     977         4.324634        10.671016        11.473045\n",
       "\n",
       "[194 rows x 4 columns]"
      ]
     },
     "execution_count": 62,
     "metadata": {},
     "output_type": "execute_result"
    }
   ],
   "source": [
    "revenue_pred_df = X_val_client_pred_CC.merge(X_val_client_pred_MF,on='Client',how='left').merge(X_val_client_pred_CL,on='Client',how='left')\n",
    "revenue_pred_df"
   ]
  },
  {
   "cell_type": "markdown",
   "metadata": {},
   "source": [
    "## final recommendadtion"
   ]
  },
  {
   "cell_type": "markdown",
   "metadata": {},
   "source": [
    "### Prediction-combine prop and rev "
   ]
  },
  {
   "cell_type": "code",
   "execution_count": 63,
   "metadata": {},
   "outputs": [
    {
     "data": {
      "text/html": [
       "<div>\n",
       "<style scoped>\n",
       "    .dataframe tbody tr th:only-of-type {\n",
       "        vertical-align: middle;\n",
       "    }\n",
       "\n",
       "    .dataframe tbody tr th {\n",
       "        vertical-align: top;\n",
       "    }\n",
       "\n",
       "    .dataframe thead th {\n",
       "        text-align: right;\n",
       "    }\n",
       "</style>\n",
       "<table border=\"1\" class=\"dataframe\">\n",
       "  <thead>\n",
       "    <tr style=\"text-align: right;\">\n",
       "      <th></th>\n",
       "      <th>Client</th>\n",
       "      <th>Sale_CC_pred</th>\n",
       "      <th>Sale_MF_pred</th>\n",
       "      <th>Sale_CL_pred</th>\n",
       "      <th>Revenue_CC_pred</th>\n",
       "      <th>Revenue_MF_pred</th>\n",
       "      <th>Revenue_CL_pred</th>\n",
       "    </tr>\n",
       "  </thead>\n",
       "  <tbody>\n",
       "    <tr>\n",
       "      <th>0</th>\n",
       "      <td>186</td>\n",
       "      <td>0.572358</td>\n",
       "      <td>0.538489</td>\n",
       "      <td>0.711099</td>\n",
       "      <td>3.859321</td>\n",
       "      <td>5.992045</td>\n",
       "      <td>11.878522</td>\n",
       "    </tr>\n",
       "    <tr>\n",
       "      <th>1</th>\n",
       "      <td>285</td>\n",
       "      <td>0.353562</td>\n",
       "      <td>0.286136</td>\n",
       "      <td>0.478359</td>\n",
       "      <td>5.095474</td>\n",
       "      <td>7.498962</td>\n",
       "      <td>10.856402</td>\n",
       "    </tr>\n",
       "    <tr>\n",
       "      <th>2</th>\n",
       "      <td>1404</td>\n",
       "      <td>0.403924</td>\n",
       "      <td>0.499376</td>\n",
       "      <td>0.460011</td>\n",
       "      <td>7.897685</td>\n",
       "      <td>4.157923</td>\n",
       "      <td>10.956249</td>\n",
       "    </tr>\n",
       "    <tr>\n",
       "      <th>3</th>\n",
       "      <td>441</td>\n",
       "      <td>0.444564</td>\n",
       "      <td>0.620569</td>\n",
       "      <td>0.544459</td>\n",
       "      <td>6.005305</td>\n",
       "      <td>3.957508</td>\n",
       "      <td>10.381478</td>\n",
       "    </tr>\n",
       "    <tr>\n",
       "      <th>4</th>\n",
       "      <td>1461</td>\n",
       "      <td>0.650395</td>\n",
       "      <td>0.597949</td>\n",
       "      <td>0.500675</td>\n",
       "      <td>8.292921</td>\n",
       "      <td>4.407672</td>\n",
       "      <td>12.010451</td>\n",
       "    </tr>\n",
       "    <tr>\n",
       "      <th>...</th>\n",
       "      <td>...</td>\n",
       "      <td>...</td>\n",
       "      <td>...</td>\n",
       "      <td>...</td>\n",
       "      <td>...</td>\n",
       "      <td>...</td>\n",
       "      <td>...</td>\n",
       "    </tr>\n",
       "    <tr>\n",
       "      <th>189</th>\n",
       "      <td>1500</td>\n",
       "      <td>0.425334</td>\n",
       "      <td>0.391963</td>\n",
       "      <td>0.477972</td>\n",
       "      <td>12.574076</td>\n",
       "      <td>6.077785</td>\n",
       "      <td>9.395879</td>\n",
       "    </tr>\n",
       "    <tr>\n",
       "      <th>190</th>\n",
       "      <td>172</td>\n",
       "      <td>0.612976</td>\n",
       "      <td>0.432052</td>\n",
       "      <td>0.606220</td>\n",
       "      <td>11.246597</td>\n",
       "      <td>23.184237</td>\n",
       "      <td>8.069526</td>\n",
       "    </tr>\n",
       "    <tr>\n",
       "      <th>191</th>\n",
       "      <td>573</td>\n",
       "      <td>0.413495</td>\n",
       "      <td>0.342952</td>\n",
       "      <td>0.431925</td>\n",
       "      <td>6.254133</td>\n",
       "      <td>3.493207</td>\n",
       "      <td>12.019884</td>\n",
       "    </tr>\n",
       "    <tr>\n",
       "      <th>192</th>\n",
       "      <td>621</td>\n",
       "      <td>0.519811</td>\n",
       "      <td>0.438902</td>\n",
       "      <td>0.405605</td>\n",
       "      <td>6.445230</td>\n",
       "      <td>6.292647</td>\n",
       "      <td>15.589932</td>\n",
       "    </tr>\n",
       "    <tr>\n",
       "      <th>193</th>\n",
       "      <td>977</td>\n",
       "      <td>0.425497</td>\n",
       "      <td>0.369162</td>\n",
       "      <td>0.429193</td>\n",
       "      <td>4.324634</td>\n",
       "      <td>10.671016</td>\n",
       "      <td>11.473045</td>\n",
       "    </tr>\n",
       "  </tbody>\n",
       "</table>\n",
       "<p>194 rows × 7 columns</p>\n",
       "</div>"
      ],
      "text/plain": [
       "     Client  Sale_CC_pred  Sale_MF_pred  Sale_CL_pred  Revenue_CC_pred  \\\n",
       "0       186      0.572358      0.538489      0.711099         3.859321   \n",
       "1       285      0.353562      0.286136      0.478359         5.095474   \n",
       "2      1404      0.403924      0.499376      0.460011         7.897685   \n",
       "3       441      0.444564      0.620569      0.544459         6.005305   \n",
       "4      1461      0.650395      0.597949      0.500675         8.292921   \n",
       "..      ...           ...           ...           ...              ...   \n",
       "189    1500      0.425334      0.391963      0.477972        12.574076   \n",
       "190     172      0.612976      0.432052      0.606220        11.246597   \n",
       "191     573      0.413495      0.342952      0.431925         6.254133   \n",
       "192     621      0.519811      0.438902      0.405605         6.445230   \n",
       "193     977      0.425497      0.369162      0.429193         4.324634   \n",
       "\n",
       "     Revenue_MF_pred  Revenue_CL_pred  \n",
       "0           5.992045        11.878522  \n",
       "1           7.498962        10.856402  \n",
       "2           4.157923        10.956249  \n",
       "3           3.957508        10.381478  \n",
       "4           4.407672        12.010451  \n",
       "..               ...              ...  \n",
       "189         6.077785         9.395879  \n",
       "190        23.184237         8.069526  \n",
       "191         3.493207        12.019884  \n",
       "192         6.292647        15.589932  \n",
       "193        10.671016        11.473045  \n",
       "\n",
       "[194 rows x 7 columns]"
      ]
     },
     "execution_count": 63,
     "metadata": {},
     "output_type": "execute_result"
    }
   ],
   "source": [
    "combined_pred_df = sales_pred_df.merge(revenue_pred_df, on='Client',how='left')\n",
    "combined_pred_df"
   ]
  },
  {
   "cell_type": "code",
   "execution_count": 64,
   "metadata": {},
   "outputs": [],
   "source": [
    "# define top ratio of clients to look at\n",
    "ratio=0.15\n",
    "n_recommendation = int(len(combined_pred_df)*ratio)"
   ]
  },
  {
   "cell_type": "code",
   "execution_count": 65,
   "metadata": {},
   "outputs": [
    {
     "data": {
      "text/html": [
       "<div>\n",
       "<style scoped>\n",
       "    .dataframe tbody tr th:only-of-type {\n",
       "        vertical-align: middle;\n",
       "    }\n",
       "\n",
       "    .dataframe tbody tr th {\n",
       "        vertical-align: top;\n",
       "    }\n",
       "\n",
       "    .dataframe thead th {\n",
       "        text-align: right;\n",
       "    }\n",
       "</style>\n",
       "<table border=\"1\" class=\"dataframe\">\n",
       "  <thead>\n",
       "    <tr style=\"text-align: right;\">\n",
       "      <th></th>\n",
       "      <th>Client</th>\n",
       "      <th>Product</th>\n",
       "      <th>Sale</th>\n",
       "      <th>Revenue</th>\n",
       "    </tr>\n",
       "  </thead>\n",
       "  <tbody>\n",
       "    <tr>\n",
       "      <th>0</th>\n",
       "      <td>186</td>\n",
       "      <td>CC_pred</td>\n",
       "      <td>0.572358</td>\n",
       "      <td>3.859321</td>\n",
       "    </tr>\n",
       "    <tr>\n",
       "      <th>1</th>\n",
       "      <td>285</td>\n",
       "      <td>CC_pred</td>\n",
       "      <td>0.353562</td>\n",
       "      <td>5.095474</td>\n",
       "    </tr>\n",
       "    <tr>\n",
       "      <th>2</th>\n",
       "      <td>1404</td>\n",
       "      <td>CC_pred</td>\n",
       "      <td>0.403924</td>\n",
       "      <td>7.897685</td>\n",
       "    </tr>\n",
       "    <tr>\n",
       "      <th>3</th>\n",
       "      <td>441</td>\n",
       "      <td>CC_pred</td>\n",
       "      <td>0.444564</td>\n",
       "      <td>6.005305</td>\n",
       "    </tr>\n",
       "    <tr>\n",
       "      <th>4</th>\n",
       "      <td>1461</td>\n",
       "      <td>CC_pred</td>\n",
       "      <td>0.650395</td>\n",
       "      <td>8.292921</td>\n",
       "    </tr>\n",
       "    <tr>\n",
       "      <th>...</th>\n",
       "      <td>...</td>\n",
       "      <td>...</td>\n",
       "      <td>...</td>\n",
       "      <td>...</td>\n",
       "    </tr>\n",
       "    <tr>\n",
       "      <th>577</th>\n",
       "      <td>1500</td>\n",
       "      <td>CL_pred</td>\n",
       "      <td>0.477972</td>\n",
       "      <td>9.395879</td>\n",
       "    </tr>\n",
       "    <tr>\n",
       "      <th>578</th>\n",
       "      <td>172</td>\n",
       "      <td>CL_pred</td>\n",
       "      <td>0.606220</td>\n",
       "      <td>8.069526</td>\n",
       "    </tr>\n",
       "    <tr>\n",
       "      <th>579</th>\n",
       "      <td>573</td>\n",
       "      <td>CL_pred</td>\n",
       "      <td>0.431925</td>\n",
       "      <td>12.019884</td>\n",
       "    </tr>\n",
       "    <tr>\n",
       "      <th>580</th>\n",
       "      <td>621</td>\n",
       "      <td>CL_pred</td>\n",
       "      <td>0.405605</td>\n",
       "      <td>15.589932</td>\n",
       "    </tr>\n",
       "    <tr>\n",
       "      <th>581</th>\n",
       "      <td>977</td>\n",
       "      <td>CL_pred</td>\n",
       "      <td>0.429193</td>\n",
       "      <td>11.473045</td>\n",
       "    </tr>\n",
       "  </tbody>\n",
       "</table>\n",
       "<p>582 rows × 4 columns</p>\n",
       "</div>"
      ],
      "text/plain": [
       "     Client  Product      Sale    Revenue\n",
       "0       186  CC_pred  0.572358   3.859321\n",
       "1       285  CC_pred  0.353562   5.095474\n",
       "2      1404  CC_pred  0.403924   7.897685\n",
       "3       441  CC_pred  0.444564   6.005305\n",
       "4      1461  CC_pred  0.650395   8.292921\n",
       "..      ...      ...       ...        ...\n",
       "577    1500  CL_pred  0.477972   9.395879\n",
       "578     172  CL_pred  0.606220   8.069526\n",
       "579     573  CL_pred  0.431925  12.019884\n",
       "580     621  CL_pred  0.405605  15.589932\n",
       "581     977  CL_pred  0.429193  11.473045\n",
       "\n",
       "[582 rows x 4 columns]"
      ]
     },
     "execution_count": 65,
     "metadata": {},
     "output_type": "execute_result"
    }
   ],
   "source": [
    "# transform to long format, each row a client and product\n",
    "df_pred_long = pd.wide_to_long(\n",
    "    combined_pred_df,\n",
    "    stubnames=['Sale', 'Revenue'],  # Columns to combine\n",
    "    i='Client',                      # Identifier column\n",
    "    j='Product',                     # New category column (CC/MF/CL)\n",
    "    sep='_',                         # Separator in original column names\n",
    "    suffix=r'\\w+'                    # Match any suffix (CC/MF/CL)\n",
    ").reset_index()\n",
    "df_pred_long"
   ]
  },
  {
   "cell_type": "code",
   "execution_count": 66,
   "metadata": {},
   "outputs": [],
   "source": [
    "# filter only probability >0.5, can be adjusted\n",
    "df_pred_long = df_pred_long[df_pred_long.Sale>=0.5]"
   ]
  },
  {
   "cell_type": "code",
   "execution_count": 67,
   "metadata": {},
   "outputs": [
    {
     "name": "stderr",
     "output_type": "stream",
     "text": [
      "C:\\Users\\PC\\AppData\\Local\\Temp/ipykernel_13424/651288063.py:2: SettingWithCopyWarning: \n",
      "A value is trying to be set on a copy of a slice from a DataFrame.\n",
      "Try using .loc[row_indexer,col_indexer] = value instead\n",
      "\n",
      "See the caveats in the documentation: https://pandas.pydata.org/pandas-docs/stable/user_guide/indexing.html#returning-a-view-versus-a-copy\n",
      "  df_pred_long['Product']=df_pred_long['Product'].apply(lambda x: x.replace('_pred', '') if 'pred' in x else x)\n",
      "C:\\Users\\PC\\AppData\\Local\\Temp/ipykernel_13424/651288063.py:3: SettingWithCopyWarning: \n",
      "A value is trying to be set on a copy of a slice from a DataFrame.\n",
      "Try using .loc[row_indexer,col_indexer] = value instead\n",
      "\n",
      "See the caveats in the documentation: https://pandas.pydata.org/pandas-docs/stable/user_guide/indexing.html#returning-a-view-versus-a-copy\n",
      "  df_pred_long['Expected_Revenue'] = df_pred_long['Sale'] * df_pred_long['Revenue']\n"
     ]
    }
   ],
   "source": [
    "# create expected revenue\n",
    "df_pred_long['Product']=df_pred_long['Product'].apply(lambda x: x.replace('_pred', '') if 'pred' in x else x)\n",
    "df_pred_long['Expected_Revenue'] = df_pred_long['Sale'] * df_pred_long['Revenue']"
   ]
  },
  {
   "cell_type": "code",
   "execution_count": 68,
   "metadata": {},
   "outputs": [
    {
     "name": "stdout",
     "output_type": "stream",
     "text": [
      "     Client Product      Sale    Revenue  Expected_Revenue\n",
      "0      1116      MF  0.616188  25.585826         15.765678\n",
      "1       303      MF  0.803041  14.584677         11.712092\n",
      "2       477      CL  0.729239  14.096123         10.279440\n",
      "3       563      CL  0.689097  14.669809         10.108928\n",
      "4       574      CL  0.661850  15.064987          9.970758\n",
      "..      ...     ...       ...        ...               ...\n",
      "122    1581      MF  0.533285   3.449548          1.839593\n",
      "123     913      MF  0.575200   3.153779          1.814053\n",
      "124     601      CC  0.695517   2.532979          1.761729\n",
      "125     754      MF  0.500123   3.330330          1.665575\n",
      "126     643      MF  0.537823   1.462601          0.786621\n",
      "\n",
      "[127 rows x 5 columns]\n"
     ]
    }
   ],
   "source": [
    "# take only product with highest expected revenue\n",
    "best_product_df = (\n",
    "    df_pred_long\n",
    "    .sort_values('Expected_Revenue', ascending=False)  # Sort clients by revenue\n",
    "    .groupby('Client')                                  # Group by client\n",
    "    .head(1)                                            # Keep top row per group\n",
    "    .reset_index(drop=True)                             # Clean index\n",
    ")\n",
    "\n",
    "print(best_product_df)"
   ]
  },
  {
   "cell_type": "markdown",
   "metadata": {},
   "source": [
    "### Label-combine prop and rev "
   ]
  },
  {
   "cell_type": "code",
   "execution_count": 69,
   "metadata": {},
   "outputs": [],
   "source": [
    "combined_actual_df = df_merged_tar[df_merged_tar.Client.isin(combined_pred_df.Client)][['Client','Sale_CC', 'Sale_MF', 'Sale_CL',\n",
    "       'Revenue_CC', 'Revenue_MF', 'Revenue_CL']]"
   ]
  },
  {
   "cell_type": "code",
   "execution_count": 70,
   "metadata": {},
   "outputs": [
    {
     "data": {
      "text/html": [
       "<div>\n",
       "<style scoped>\n",
       "    .dataframe tbody tr th:only-of-type {\n",
       "        vertical-align: middle;\n",
       "    }\n",
       "\n",
       "    .dataframe tbody tr th {\n",
       "        vertical-align: top;\n",
       "    }\n",
       "\n",
       "    .dataframe thead th {\n",
       "        text-align: right;\n",
       "    }\n",
       "</style>\n",
       "<table border=\"1\" class=\"dataframe\">\n",
       "  <thead>\n",
       "    <tr style=\"text-align: right;\">\n",
       "      <th></th>\n",
       "      <th>Client</th>\n",
       "      <th>Product</th>\n",
       "      <th>Sale</th>\n",
       "      <th>Revenue</th>\n",
       "    </tr>\n",
       "  </thead>\n",
       "  <tbody>\n",
       "    <tr>\n",
       "      <th>0</th>\n",
       "      <td>186</td>\n",
       "      <td>CC</td>\n",
       "      <td>0.0</td>\n",
       "      <td>0.000000</td>\n",
       "    </tr>\n",
       "    <tr>\n",
       "      <th>1</th>\n",
       "      <td>285</td>\n",
       "      <td>CC</td>\n",
       "      <td>1.0</td>\n",
       "      <td>5.642857</td>\n",
       "    </tr>\n",
       "    <tr>\n",
       "      <th>2</th>\n",
       "      <td>1404</td>\n",
       "      <td>CC</td>\n",
       "      <td>1.0</td>\n",
       "      <td>1.786786</td>\n",
       "    </tr>\n",
       "    <tr>\n",
       "      <th>3</th>\n",
       "      <td>441</td>\n",
       "      <td>CC</td>\n",
       "      <td>0.0</td>\n",
       "      <td>0.000000</td>\n",
       "    </tr>\n",
       "    <tr>\n",
       "      <th>4</th>\n",
       "      <td>1461</td>\n",
       "      <td>CC</td>\n",
       "      <td>1.0</td>\n",
       "      <td>4.285714</td>\n",
       "    </tr>\n",
       "    <tr>\n",
       "      <th>...</th>\n",
       "      <td>...</td>\n",
       "      <td>...</td>\n",
       "      <td>...</td>\n",
       "      <td>...</td>\n",
       "    </tr>\n",
       "    <tr>\n",
       "      <th>577</th>\n",
       "      <td>1500</td>\n",
       "      <td>CL</td>\n",
       "      <td>1.0</td>\n",
       "      <td>6.571429</td>\n",
       "    </tr>\n",
       "    <tr>\n",
       "      <th>578</th>\n",
       "      <td>172</td>\n",
       "      <td>CL</td>\n",
       "      <td>0.0</td>\n",
       "      <td>0.000000</td>\n",
       "    </tr>\n",
       "    <tr>\n",
       "      <th>579</th>\n",
       "      <td>573</td>\n",
       "      <td>CL</td>\n",
       "      <td>0.0</td>\n",
       "      <td>0.000000</td>\n",
       "    </tr>\n",
       "    <tr>\n",
       "      <th>580</th>\n",
       "      <td>621</td>\n",
       "      <td>CL</td>\n",
       "      <td>0.0</td>\n",
       "      <td>0.000000</td>\n",
       "    </tr>\n",
       "    <tr>\n",
       "      <th>581</th>\n",
       "      <td>977</td>\n",
       "      <td>CL</td>\n",
       "      <td>0.0</td>\n",
       "      <td>0.000000</td>\n",
       "    </tr>\n",
       "  </tbody>\n",
       "</table>\n",
       "<p>582 rows × 4 columns</p>\n",
       "</div>"
      ],
      "text/plain": [
       "     Client Product  Sale   Revenue\n",
       "0       186      CC   0.0  0.000000\n",
       "1       285      CC   1.0  5.642857\n",
       "2      1404      CC   1.0  1.786786\n",
       "3       441      CC   0.0  0.000000\n",
       "4      1461      CC   1.0  4.285714\n",
       "..      ...     ...   ...       ...\n",
       "577    1500      CL   1.0  6.571429\n",
       "578     172      CL   0.0  0.000000\n",
       "579     573      CL   0.0  0.000000\n",
       "580     621      CL   0.0  0.000000\n",
       "581     977      CL   0.0  0.000000\n",
       "\n",
       "[582 rows x 4 columns]"
      ]
     },
     "execution_count": 70,
     "metadata": {},
     "output_type": "execute_result"
    }
   ],
   "source": [
    "df_actual_long = pd.wide_to_long(\n",
    "    combined_actual_df,\n",
    "    stubnames=['Sale', 'Revenue'],  # Columns to combine\n",
    "    i='Client',                      # Identifier column\n",
    "    j='Product',                     # New category column (CC/MF/CL)\n",
    "    sep='_',                         # Separator in original column names\n",
    "    suffix=r'\\w+'                    # Match any suffix (CC/MF/CL)\n",
    ").reset_index()\n",
    "df_actual_long"
   ]
  },
  {
   "cell_type": "code",
   "execution_count": 71,
   "metadata": {},
   "outputs": [],
   "source": [
    "best_product_actual_df = (\n",
    "    df_actual_long\n",
    "    .sort_values('Revenue', ascending=False)  # Sort clients by revenue\n",
    "    .groupby('Client')                                  # Group by client\n",
    "    .head(1)                                            # Keep top row per group\n",
    "    .reset_index(drop=True)                             # Clean index\n",
    ")"
   ]
  },
  {
   "cell_type": "markdown",
   "metadata": {},
   "source": [
    "### compare prediction vs label"
   ]
  },
  {
   "cell_type": "code",
   "execution_count": 72,
   "metadata": {},
   "outputs": [
    {
     "data": {
      "text/html": [
       "<div>\n",
       "<style scoped>\n",
       "    .dataframe tbody tr th:only-of-type {\n",
       "        vertical-align: middle;\n",
       "    }\n",
       "\n",
       "    .dataframe tbody tr th {\n",
       "        vertical-align: top;\n",
       "    }\n",
       "\n",
       "    .dataframe thead th {\n",
       "        text-align: right;\n",
       "    }\n",
       "</style>\n",
       "<table border=\"1\" class=\"dataframe\">\n",
       "  <thead>\n",
       "    <tr style=\"text-align: right;\">\n",
       "      <th></th>\n",
       "      <th>Client</th>\n",
       "      <th>Product</th>\n",
       "      <th>Sale_pred</th>\n",
       "      <th>Revenue_pred</th>\n",
       "      <th>Expected_Revenue</th>\n",
       "      <th>Sale_actual</th>\n",
       "      <th>Revenue_actual</th>\n",
       "      <th>Revenue_result</th>\n",
       "    </tr>\n",
       "  </thead>\n",
       "  <tbody>\n",
       "    <tr>\n",
       "      <th>0</th>\n",
       "      <td>1116</td>\n",
       "      <td>MF</td>\n",
       "      <td>0.616188</td>\n",
       "      <td>25.585826</td>\n",
       "      <td>15.765678</td>\n",
       "      <td>0.0</td>\n",
       "      <td>0.000000</td>\n",
       "      <td>0.000000</td>\n",
       "    </tr>\n",
       "    <tr>\n",
       "      <th>1</th>\n",
       "      <td>303</td>\n",
       "      <td>MF</td>\n",
       "      <td>0.803041</td>\n",
       "      <td>14.584677</td>\n",
       "      <td>11.712092</td>\n",
       "      <td>0.0</td>\n",
       "      <td>0.000000</td>\n",
       "      <td>0.000000</td>\n",
       "    </tr>\n",
       "    <tr>\n",
       "      <th>2</th>\n",
       "      <td>477</td>\n",
       "      <td>CL</td>\n",
       "      <td>0.729239</td>\n",
       "      <td>14.096123</td>\n",
       "      <td>10.279440</td>\n",
       "      <td>1.0</td>\n",
       "      <td>4.214286</td>\n",
       "      <td>14.096123</td>\n",
       "    </tr>\n",
       "    <tr>\n",
       "      <th>3</th>\n",
       "      <td>563</td>\n",
       "      <td>CL</td>\n",
       "      <td>0.689097</td>\n",
       "      <td>14.669809</td>\n",
       "      <td>10.108928</td>\n",
       "      <td>0.0</td>\n",
       "      <td>0.000000</td>\n",
       "      <td>0.000000</td>\n",
       "    </tr>\n",
       "    <tr>\n",
       "      <th>4</th>\n",
       "      <td>574</td>\n",
       "      <td>CL</td>\n",
       "      <td>0.661850</td>\n",
       "      <td>15.064987</td>\n",
       "      <td>9.970758</td>\n",
       "      <td>0.0</td>\n",
       "      <td>0.000000</td>\n",
       "      <td>0.000000</td>\n",
       "    </tr>\n",
       "    <tr>\n",
       "      <th>...</th>\n",
       "      <td>...</td>\n",
       "      <td>...</td>\n",
       "      <td>...</td>\n",
       "      <td>...</td>\n",
       "      <td>...</td>\n",
       "      <td>...</td>\n",
       "      <td>...</td>\n",
       "      <td>...</td>\n",
       "    </tr>\n",
       "    <tr>\n",
       "      <th>122</th>\n",
       "      <td>1581</td>\n",
       "      <td>MF</td>\n",
       "      <td>0.533285</td>\n",
       "      <td>3.449548</td>\n",
       "      <td>1.839593</td>\n",
       "      <td>0.0</td>\n",
       "      <td>0.000000</td>\n",
       "      <td>0.000000</td>\n",
       "    </tr>\n",
       "    <tr>\n",
       "      <th>123</th>\n",
       "      <td>913</td>\n",
       "      <td>MF</td>\n",
       "      <td>0.575200</td>\n",
       "      <td>3.153779</td>\n",
       "      <td>1.814053</td>\n",
       "      <td>0.0</td>\n",
       "      <td>0.000000</td>\n",
       "      <td>0.000000</td>\n",
       "    </tr>\n",
       "    <tr>\n",
       "      <th>124</th>\n",
       "      <td>601</td>\n",
       "      <td>CC</td>\n",
       "      <td>0.695517</td>\n",
       "      <td>2.532979</td>\n",
       "      <td>1.761729</td>\n",
       "      <td>1.0</td>\n",
       "      <td>6.862500</td>\n",
       "      <td>2.532979</td>\n",
       "    </tr>\n",
       "    <tr>\n",
       "      <th>125</th>\n",
       "      <td>754</td>\n",
       "      <td>MF</td>\n",
       "      <td>0.500123</td>\n",
       "      <td>3.330330</td>\n",
       "      <td>1.665575</td>\n",
       "      <td>0.0</td>\n",
       "      <td>0.000000</td>\n",
       "      <td>0.000000</td>\n",
       "    </tr>\n",
       "    <tr>\n",
       "      <th>126</th>\n",
       "      <td>643</td>\n",
       "      <td>MF</td>\n",
       "      <td>0.537823</td>\n",
       "      <td>1.462601</td>\n",
       "      <td>0.786621</td>\n",
       "      <td>1.0</td>\n",
       "      <td>32.040179</td>\n",
       "      <td>1.462601</td>\n",
       "    </tr>\n",
       "  </tbody>\n",
       "</table>\n",
       "<p>127 rows × 8 columns</p>\n",
       "</div>"
      ],
      "text/plain": [
       "     Client Product  Sale_pred  Revenue_pred  Expected_Revenue  Sale_actual  \\\n",
       "0      1116      MF   0.616188     25.585826         15.765678          0.0   \n",
       "1       303      MF   0.803041     14.584677         11.712092          0.0   \n",
       "2       477      CL   0.729239     14.096123         10.279440          1.0   \n",
       "3       563      CL   0.689097     14.669809         10.108928          0.0   \n",
       "4       574      CL   0.661850     15.064987          9.970758          0.0   \n",
       "..      ...     ...        ...           ...               ...          ...   \n",
       "122    1581      MF   0.533285      3.449548          1.839593          0.0   \n",
       "123     913      MF   0.575200      3.153779          1.814053          0.0   \n",
       "124     601      CC   0.695517      2.532979          1.761729          1.0   \n",
       "125     754      MF   0.500123      3.330330          1.665575          0.0   \n",
       "126     643      MF   0.537823      1.462601          0.786621          1.0   \n",
       "\n",
       "     Revenue_actual  Revenue_result  \n",
       "0          0.000000        0.000000  \n",
       "1          0.000000        0.000000  \n",
       "2          4.214286       14.096123  \n",
       "3          0.000000        0.000000  \n",
       "4          0.000000        0.000000  \n",
       "..              ...             ...  \n",
       "122        0.000000        0.000000  \n",
       "123        0.000000        0.000000  \n",
       "124        6.862500        2.532979  \n",
       "125        0.000000        0.000000  \n",
       "126       32.040179        1.462601  \n",
       "\n",
       "[127 rows x 8 columns]"
      ]
     },
     "execution_count": 72,
     "metadata": {},
     "output_type": "execute_result"
    }
   ],
   "source": [
    "result_merged_df = best_product_df.merge(\n",
    "    df_actual_long,\n",
    "    on=['Client', 'Product'],   # Match clients and products\n",
    "    how='left',                # Keep only matching rows\n",
    "    suffixes=('_pred', '_actual')\n",
    ")\n",
    "result_merged_df['Revenue_result'] = result_merged_df.Revenue_pred * result_merged_df.Sale_actual\n",
    "result_merged_df"
   ]
  },
  {
   "cell_type": "code",
   "execution_count": 73,
   "metadata": {},
   "outputs": [
    {
     "data": {
      "text/plain": [
       "(10.0, 29)"
      ]
     },
     "execution_count": 73,
     "metadata": {},
     "output_type": "execute_result"
    }
   ],
   "source": [
    "result_merged_df.head(n_recommendation).Sale_actual.sum(),n_recommendation"
   ]
  },
  {
   "cell_type": "code",
   "execution_count": 74,
   "metadata": {},
   "outputs": [
    {
     "data": {
      "text/plain": [
       "(63.06410714285714, 128.151354887558)"
      ]
     },
     "execution_count": 74,
     "metadata": {},
     "output_type": "execute_result"
    }
   ],
   "source": [
    "result_merged_df.head(n_recommendation).Revenue_actual.sum(),result_merged_df.head(n_recommendation).Revenue_result.sum(),"
   ]
  }
 ],
 "metadata": {
  "kernelspec": {
   "display_name": "base",
   "language": "python",
   "name": "python3"
  },
  "language_info": {
   "codemirror_mode": {
    "name": "ipython",
    "version": 3
   },
   "file_extension": ".py",
   "mimetype": "text/x-python",
   "name": "python",
   "nbconvert_exporter": "python",
   "pygments_lexer": "ipython3",
   "version": "3.9.7"
  }
 },
 "nbformat": 4,
 "nbformat_minor": 2
}
